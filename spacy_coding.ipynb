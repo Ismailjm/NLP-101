{
 "cells": [
  {
   "cell_type": "code",
   "execution_count": 1,
   "metadata": {},
   "outputs": [
    {
     "name": "stdout",
     "output_type": "stream",
     "text": [
      "Hello Spacy\n"
     ]
    }
   ],
   "source": [
    "print(\"Hello Spacy\")"
   ]
  },
  {
   "cell_type": "code",
   "execution_count": 2,
   "metadata": {},
   "outputs": [
    {
     "name": "stdout",
     "output_type": "stream",
     "text": [
      "3.8.2\n"
     ]
    }
   ],
   "source": [
    "import spacy\n",
    "print(spacy.__version__)"
   ]
  },
  {
   "cell_type": "code",
   "execution_count": 3,
   "metadata": {},
   "outputs": [],
   "source": [
    "nlp = spacy.load(\"en_core_web_sm\")"
   ]
  },
  {
   "cell_type": "markdown",
   "metadata": {},
   "source": [
    "## 2.2 Containers"
   ]
  },
  {
   "cell_type": "markdown",
   "metadata": {},
   "source": [
    "Containers are spacy objects that contain a large quantity of data about a text. When we analyze texts with the spacy framework, we create different container objects to do that. Here is a full list of all spacy containers, We will be focusing on three (emboldened): Doc, Span, and Token."
   ]
  },
  {
   "cell_type": "code",
   "execution_count": 4,
   "metadata": {},
   "outputs": [],
   "source": [
    "with open (\"data/wiki_us.txt\", \"r\") as f:\n",
    "    text = f.read()"
   ]
  },
  {
   "cell_type": "code",
   "execution_count": 5,
   "metadata": {},
   "outputs": [
    {
     "name": "stdout",
     "output_type": "stream",
     "text": [
      "The United States of America (U.S.A. or USA), commonly known as the United States (U.S. or US) or America, is a country primarily located in North America. It consists of 50 states, a federal district, five major unincorporated territories, 326 Indian reservations, and some minor possessions.[j] At 3.8 million square miles (9.8 million square kilometers), it is the world's third- or fourth-largest country by total area.[d] The United States shares significant land borders with Canada to the north and Mexico to the south, as well as limited maritime borders with the Bahamas, Cuba, and Russia.[22] With a population of more than 331 million people, it is the third most populous country in the world. The national capital is Washington, D.C., and the most populous city is New York.\n",
      "\n",
      "Paleo-Indians migrated from Siberia to the North American mainland at least 12,000 years ago, and European colonization began in the 16th century. The United States emerged from the thirteen British colonies established along the East Coast. Disputes over taxation and political representation with Great Britain led to the American Revolutionary War (1775â€“1783), which established independence. In the late 18th century, the U.S. began expanding across North America, gradually obtaining new territories, sometimes through war, frequently displacing Native Americans, and admitting new states; by 1848, the United States spanned the continent. Slavery was legal in the southern United States until the second half of the 19th century when the American Civil War led to its abolition. The Spanishâ€“American War and World War I established the U.S. as a world power, a status confirmed by the outcome of World War II.\n",
      "\n",
      "During the Cold War, the United States fought the Korean War and the Vietnam War but avoided direct military conflict with the Soviet Union. The two superpowers competed in the Space Race, culminating in the 1969 spaceflight that first landed humans on the Moon. The Soviet Union's dissolution in 1991 ended the Cold War, leaving the United States as the world's sole superpower.\n",
      "\n",
      "The United States is a federal republic and a representative democracy with three separate branches of government, including a bicameral legislature. It is a founding member of the United Nations, World Bank, International Monetary Fund, Organization of American States, NATO, and other international organizations. It is a permanent member of the United Nations Security Council. Considered a melting pot of cultures and ethnicities, its population has been profoundly shaped by centuries of immigration. The country ranks high in international measures of economic freedom, quality of life, education, and human rights, and has low levels of perceived corruption. However, the country has received criticism concerning inequality related to race, wealth and income, the use of capital punishment, high incarceration rates, and lack of universal health care.\n",
      "\n",
      "The United States is a highly developed country, accounts for approximately a quarter of global GDP, and is the world's largest economy. By value, the United States is the world's largest importer and the second-largest exporter of goods. Although its population is only 4.2% of the world's total, it holds 29.4% of the total wealth in the world, the largest share held by any country. Making up more than a third of global military spending, it is the foremost military power in the world; and it is a leading political, cultural, and scientific force internationally.[23]\n"
     ]
    }
   ],
   "source": [
    "print(text)"
   ]
  },
  {
   "cell_type": "code",
   "execution_count": 6,
   "metadata": {},
   "outputs": [],
   "source": [
    "## Doc Container\n",
    "doc = nlp(text)"
   ]
  },
  {
   "cell_type": "code",
   "execution_count": 7,
   "metadata": {},
   "outputs": [
    {
     "name": "stdout",
     "output_type": "stream",
     "text": [
      "The United States of America (U.S.A. or USA), commonly known as the United States (U.S. or US) or America, is a country primarily located in North America. It consists of 50 states, a federal district, five major unincorporated territories, 326 Indian reservations, and some minor possessions.[j] At 3.8 million square miles (9.8 million square kilometers), it is the world's third- or fourth-largest country by total area.[d] The United States shares significant land borders with Canada to the north and Mexico to the south, as well as limited maritime borders with the Bahamas, Cuba, and Russia.[22] With a population of more than 331 million people, it is the third most populous country in the world. The national capital is Washington, D.C., and the most populous city is New York.\n",
      "\n",
      "Paleo-Indians migrated from Siberia to the North American mainland at least 12,000 years ago, and European colonization began in the 16th century. The United States emerged from the thirteen British colonies established along the East Coast. Disputes over taxation and political representation with Great Britain led to the American Revolutionary War (1775â€“1783), which established independence. In the late 18th century, the U.S. began expanding across North America, gradually obtaining new territories, sometimes through war, frequently displacing Native Americans, and admitting new states; by 1848, the United States spanned the continent. Slavery was legal in the southern United States until the second half of the 19th century when the American Civil War led to its abolition. The Spanishâ€“American War and World War I established the U.S. as a world power, a status confirmed by the outcome of World War II.\n",
      "\n",
      "During the Cold War, the United States fought the Korean War and the Vietnam War but avoided direct military conflict with the Soviet Union. The two superpowers competed in the Space Race, culminating in the 1969 spaceflight that first landed humans on the Moon. The Soviet Union's dissolution in 1991 ended the Cold War, leaving the United States as the world's sole superpower.\n",
      "\n",
      "The United States is a federal republic and a representative democracy with three separate branches of government, including a bicameral legislature. It is a founding member of the United Nations, World Bank, International Monetary Fund, Organization of American States, NATO, and other international organizations. It is a permanent member of the United Nations Security Council. Considered a melting pot of cultures and ethnicities, its population has been profoundly shaped by centuries of immigration. The country ranks high in international measures of economic freedom, quality of life, education, and human rights, and has low levels of perceived corruption. However, the country has received criticism concerning inequality related to race, wealth and income, the use of capital punishment, high incarceration rates, and lack of universal health care.\n",
      "\n",
      "The United States is a highly developed country, accounts for approximately a quarter of global GDP, and is the world's largest economy. By value, the United States is the world's largest importer and the second-largest exporter of goods. Although its population is only 4.2% of the world's total, it holds 29.4% of the total wealth in the world, the largest share held by any country. Making up more than a third of global military spending, it is the foremost military power in the world; and it is a leading political, cultural, and scientific force internationally.[23]\n"
     ]
    }
   ],
   "source": [
    "print(doc)"
   ]
  },
  {
   "cell_type": "code",
   "execution_count": 8,
   "metadata": {},
   "outputs": [
    {
     "name": "stdout",
     "output_type": "stream",
     "text": [
      "652\n",
      "3525\n"
     ]
    }
   ],
   "source": [
    "print (len(doc))\n",
    "print (len(text))"
   ]
  },
  {
   "cell_type": "code",
   "execution_count": 9,
   "metadata": {},
   "outputs": [
    {
     "name": "stdout",
     "output_type": "stream",
     "text": [
      "T\n",
      "h\n",
      "e\n",
      " \n",
      "U\n",
      "n\n",
      "i\n",
      "t\n",
      "e\n",
      "d\n"
     ]
    }
   ],
   "source": [
    "for token in text[:10]:\n",
    "    print (token)"
   ]
  },
  {
   "cell_type": "code",
   "execution_count": 10,
   "metadata": {},
   "outputs": [
    {
     "name": "stdout",
     "output_type": "stream",
     "text": [
      "The\n",
      "United\n",
      "States\n",
      "of\n",
      "America\n",
      "(\n",
      "U.S.A.\n",
      "or\n",
      "USA\n",
      ")\n",
      ",\n",
      "commonly\n",
      "known\n",
      "as\n",
      "the\n",
      "United\n",
      "States\n",
      "(\n",
      "U.S.\n",
      "or\n"
     ]
    }
   ],
   "source": [
    "for token in doc[:20]:\n",
    "    print (token)"
   ]
  },
  {
   "cell_type": "markdown",
   "metadata": {},
   "source": [
    "Tokens are a fundamental building block of spaCy or any NLP framework. They can be words or punctuation marks. Tokens are something that has syntactic purpose in a sentence and is self-contained."
   ]
  },
  {
   "cell_type": "code",
   "execution_count": 11,
   "metadata": {},
   "outputs": [
    {
     "name": "stdout",
     "output_type": "stream",
     "text": [
      "do\n",
      "n't\n"
     ]
    }
   ],
   "source": [
    "doc1 = nlp(\"don't\")\n",
    "for token in doc1: \n",
    "    print(token)"
   ]
  },
  {
   "cell_type": "markdown",
   "metadata": {},
   "source": [
    "## 2.3 Sentence Boundary Detection (SBD)"
   ]
  },
  {
   "cell_type": "code",
   "execution_count": 12,
   "metadata": {},
   "outputs": [
    {
     "name": "stdout",
     "output_type": "stream",
     "text": [
      "The United States of America (U.S.A. or USA), commonly known as the United States (U.S. or US) or America, is a country primarily located in North America.\n",
      "It consists of 50 states, a federal district, five major unincorporated territories, 326 Indian reservations, and some minor possessions.[j]\n",
      "At 3.8 million square miles (9.8 million square kilometers), it is the world's third- or fourth-largest country by total area.[d]\n",
      "The United States shares significant land borders with Canada to the north and Mexico to the south, as well as limited maritime borders with the Bahamas, Cuba, and Russia.[22] With a population of more than 331 million people, it is the third most populous country in the world.\n",
      "The national capital is Washington, D.C., and the most populous city is New York.\n",
      "\n",
      "\n",
      "Paleo-Indians migrated from Siberia to the North American mainland at least 12,000 years ago, and European colonization began in the 16th century.\n",
      "The United States emerged from the thirteen British colonies established along the East Coast.\n",
      "Disputes over taxation and political representation with Great Britain led to the American Revolutionary War (1775â€“1783), which established independence.\n",
      "In the late 18th century, the U.S. began expanding across North America, gradually obtaining new territories, sometimes through war, frequently displacing Native Americans, and admitting new states; by 1848, the United States spanned the continent.\n",
      "Slavery was legal in the southern United States until the second half of the 19th century when the American Civil War led to its abolition.\n",
      "The Spanishâ€“American War and World War I established the U.S. as a world power, a status confirmed by the outcome of World War II.\n",
      "\n",
      "\n",
      "During the Cold War, the United States fought the Korean War and the Vietnam War but avoided direct military conflict with the Soviet Union.\n",
      "The two superpowers competed in the Space Race, culminating in the 1969 spaceflight that first landed humans on the Moon.\n",
      "The Soviet Union's dissolution in 1991 ended the Cold War, leaving the United States as the world's sole superpower.\n",
      "\n",
      "\n",
      "The United States is a federal republic and a representative democracy with three separate branches of government, including a bicameral legislature.\n",
      "It is a founding member of the United Nations, World Bank, International Monetary Fund, Organization of American States, NATO, and other international organizations.\n",
      "It is a permanent member of the United Nations Security Council.\n",
      "Considered a melting pot of cultures and ethnicities, its population has been profoundly shaped by centuries of immigration.\n",
      "The country ranks high in international measures of economic freedom, quality of life, education, and human rights, and has low levels of perceived corruption.\n",
      "However, the country has received criticism concerning inequality related to race, wealth and income, the use of capital punishment, high incarceration rates, and lack of universal health care.\n",
      "\n",
      "\n",
      "The United States is a highly developed country, accounts for approximately a quarter of global GDP, and is the world's largest economy.\n",
      "By value, the United States is the world's largest importer and the second-largest exporter of goods.\n",
      "Although its population is only 4.2% of the world's total, it holds 29.4% of the total wealth in the world, the largest share held by any country.\n",
      "Making up more than a third of global military spending, it is the foremost military power in the world; and it is a leading political, cultural, and scientific force internationally.[23]\n"
     ]
    }
   ],
   "source": [
    "for sent in doc.sents:\n",
    "    print(sent)"
   ]
  },
  {
   "cell_type": "code",
   "execution_count": 13,
   "metadata": {},
   "outputs": [
    {
     "name": "stdout",
     "output_type": "stream",
     "text": [
      "The United States of America (U.S.A. or USA), commonly known as the United States (U.S. or US) or America, is a country primarily located in North America.\n"
     ]
    }
   ],
   "source": [
    "sentence1 = list(doc.sents)[0]\n",
    "print(sentence1)"
   ]
  },
  {
   "cell_type": "markdown",
   "metadata": {},
   "source": [
    "## 2.4 Token Attributes"
   ]
  },
  {
   "cell_type": "code",
   "execution_count": 14,
   "metadata": {},
   "outputs": [
    {
     "name": "stdout",
     "output_type": "stream",
     "text": [
      "States\n"
     ]
    }
   ],
   "source": [
    "token2 = sentence1[2]\n",
    "print(token2)"
   ]
  },
  {
   "cell_type": "code",
   "execution_count": 15,
   "metadata": {},
   "outputs": [
    {
     "data": {
      "text/plain": [
       "'States'"
      ]
     },
     "execution_count": 15,
     "metadata": {},
     "output_type": "execute_result"
    }
   ],
   "source": [
    "token2.text"
   ]
  },
  {
   "cell_type": "code",
   "execution_count": 16,
   "metadata": {},
   "outputs": [
    {
     "data": {
      "text/plain": [
       "is"
      ]
     },
     "execution_count": 16,
     "metadata": {},
     "output_type": "execute_result"
    }
   ],
   "source": [
    "# This tells to which word it is governed by, in this case, the primary verb, “is”, as it is part of the noun subject.\n",
    "token2.head"
   ]
  },
  {
   "cell_type": "code",
   "execution_count": 17,
   "metadata": {},
   "outputs": [
    {
     "data": {
      "text/plain": [
       "The"
      ]
     },
     "execution_count": 17,
     "metadata": {},
     "output_type": "execute_result"
    }
   ],
   "source": [
    "# If part of a sequence of tokens that are collectively meaningful, known as multi-word tokens, this will tell us where the multi-word token begins.\n",
    "token2.left_edge"
   ]
  },
  {
   "cell_type": "code",
   "execution_count": 18,
   "metadata": {},
   "outputs": [
    {
     "data": {
      "text/plain": [
       ","
      ]
     },
     "execution_count": 18,
     "metadata": {},
     "output_type": "execute_result"
    }
   ],
   "source": [
    "# This will tell us where the multi-word token ends.\n",
    "token2.right_edge"
   ]
  },
  {
   "cell_type": "code",
   "execution_count": 19,
   "metadata": {},
   "outputs": [
    {
     "name": "stdout",
     "output_type": "stream",
     "text": [
      "384\n",
      "GPE\n"
     ]
    }
   ],
   "source": [
    "# entity name | Named Entity Recognition\n",
    "print(token2.ent_type)\n",
    "print(token2.ent_type_)"
   ]
  },
  {
   "cell_type": "code",
   "execution_count": 20,
   "metadata": {},
   "outputs": [
    {
     "data": {
      "text/plain": [
       "'I'"
      ]
     },
     "execution_count": 20,
     "metadata": {},
     "output_type": "execute_result"
    }
   ],
   "source": [
    "# IOB is a method of annotating a text. In this case, we see “I” because states is inside an entity, that is to say that it is part of the United States of America.\n",
    "token2.ent_iob_"
   ]
  },
  {
   "cell_type": "code",
   "execution_count": 21,
   "metadata": {},
   "outputs": [
    {
     "name": "stdout",
     "output_type": "stream",
     "text": [
      "States\n",
      "know\n"
     ]
    }
   ],
   "source": [
    "# Lemmatization\n",
    "print(token2.lemma_)\n",
    "print(sentence1[12].lemma_) # known\n"
   ]
  },
  {
   "cell_type": "code",
   "execution_count": 22,
   "metadata": {},
   "outputs": [
    {
     "data": {
      "text/plain": [
       "Aspect=Perf|Tense=Past|VerbForm=Part"
      ]
     },
     "execution_count": 22,
     "metadata": {},
     "output_type": "execute_result"
    }
   ],
   "source": [
    "# Morphological analysis\n",
    "sentence1[12].morph"
   ]
  },
  {
   "cell_type": "code",
   "execution_count": 23,
   "metadata": {},
   "outputs": [
    {
     "data": {
      "text/plain": [
       "'PROPN'"
      ]
     },
     "execution_count": 23,
     "metadata": {},
     "output_type": "execute_result"
    }
   ],
   "source": [
    "# Coarse-grained part-of-speech from the Universal POS tag set\n",
    "token2.pos_"
   ]
  },
  {
   "cell_type": "code",
   "execution_count": 24,
   "metadata": {},
   "outputs": [
    {
     "data": {
      "text/plain": [
       "'nsubj'"
      ]
     },
     "execution_count": 24,
     "metadata": {},
     "output_type": "execute_result"
    }
   ],
   "source": [
    "# Syntactic dependency relation.\n",
    "token2.dep_"
   ]
  },
  {
   "cell_type": "code",
   "execution_count": 25,
   "metadata": {},
   "outputs": [
    {
     "data": {
      "text/plain": [
       "'en'"
      ]
     },
     "execution_count": 25,
     "metadata": {},
     "output_type": "execute_result"
    }
   ],
   "source": [
    "token2.lang_"
   ]
  },
  {
   "cell_type": "code",
   "execution_count": 26,
   "metadata": {},
   "outputs": [
    {
     "name": "stdout",
     "output_type": "stream",
     "text": [
      "The DET det\n",
      "United PROPN compound\n",
      "States PROPN nsubj\n",
      "of ADP prep\n",
      "America PROPN pobj\n",
      "( PUNCT punct\n",
      "U.S.A. PROPN appos\n",
      "or CCONJ cc\n",
      "USA PROPN conj\n",
      ") PUNCT punct\n",
      ", PUNCT punct\n",
      "commonly ADV advmod\n",
      "known VERB acl\n",
      "as ADP prep\n",
      "the DET det\n",
      "United PROPN compound\n",
      "States PROPN pobj\n",
      "( PUNCT punct\n",
      "U.S. PROPN appos\n",
      "or CCONJ cc\n",
      "US PROPN conj\n",
      ") PUNCT punct\n",
      "or CCONJ cc\n",
      "America PROPN conj\n",
      ", PUNCT punct\n",
      "is AUX ROOT\n",
      "a DET det\n",
      "country NOUN attr\n",
      "primarily ADV advmod\n",
      "located VERB acl\n",
      "in ADP prep\n",
      "North PROPN compound\n",
      "America PROPN pobj\n",
      ". PUNCT punct\n"
     ]
    }
   ],
   "source": [
    "for token in sentence1:\n",
    "    print (token.text, token.pos_, token.dep_)"
   ]
  },
  {
   "cell_type": "markdown",
   "metadata": {},
   "source": [
    "## Display dependencies between tokens"
   ]
  },
  {
   "cell_type": "code",
   "execution_count": 27,
   "metadata": {},
   "outputs": [
    {
     "data": {
      "text/html": [
       "<span class=\"tex2jax_ignore\"><svg xmlns=\"http://www.w3.org/2000/svg\" xmlns:xlink=\"http://www.w3.org/1999/xlink\" xml:lang=\"en\" id=\"c89e18bb0ae1424e920e5a9a0a09cd45-0\" class=\"displacy\" width=\"4775\" height=\"574.5\" direction=\"ltr\" style=\"max-width: none; height: 574.5px; color: #000000; background: #ffffff; font-family: Arial; direction: ltr\">\n",
       "<text class=\"displacy-token\" fill=\"currentColor\" text-anchor=\"middle\" y=\"484.5\">\n",
       "    <tspan class=\"displacy-word\" fill=\"currentColor\" x=\"50\">The</tspan>\n",
       "    <tspan class=\"displacy-tag\" dy=\"2em\" fill=\"currentColor\" x=\"50\">DET</tspan>\n",
       "</text>\n",
       "\n",
       "<text class=\"displacy-token\" fill=\"currentColor\" text-anchor=\"middle\" y=\"484.5\">\n",
       "    <tspan class=\"displacy-word\" fill=\"currentColor\" x=\"225\">United</tspan>\n",
       "    <tspan class=\"displacy-tag\" dy=\"2em\" fill=\"currentColor\" x=\"225\">PROPN</tspan>\n",
       "</text>\n",
       "\n",
       "<text class=\"displacy-token\" fill=\"currentColor\" text-anchor=\"middle\" y=\"484.5\">\n",
       "    <tspan class=\"displacy-word\" fill=\"currentColor\" x=\"400\">States</tspan>\n",
       "    <tspan class=\"displacy-tag\" dy=\"2em\" fill=\"currentColor\" x=\"400\">PROPN</tspan>\n",
       "</text>\n",
       "\n",
       "<text class=\"displacy-token\" fill=\"currentColor\" text-anchor=\"middle\" y=\"484.5\">\n",
       "    <tspan class=\"displacy-word\" fill=\"currentColor\" x=\"575\">of</tspan>\n",
       "    <tspan class=\"displacy-tag\" dy=\"2em\" fill=\"currentColor\" x=\"575\">ADP</tspan>\n",
       "</text>\n",
       "\n",
       "<text class=\"displacy-token\" fill=\"currentColor\" text-anchor=\"middle\" y=\"484.5\">\n",
       "    <tspan class=\"displacy-word\" fill=\"currentColor\" x=\"750\">America (</tspan>\n",
       "    <tspan class=\"displacy-tag\" dy=\"2em\" fill=\"currentColor\" x=\"750\">PROPN</tspan>\n",
       "</text>\n",
       "\n",
       "<text class=\"displacy-token\" fill=\"currentColor\" text-anchor=\"middle\" y=\"484.5\">\n",
       "    <tspan class=\"displacy-word\" fill=\"currentColor\" x=\"925\">U.S.A.</tspan>\n",
       "    <tspan class=\"displacy-tag\" dy=\"2em\" fill=\"currentColor\" x=\"925\">PROPN</tspan>\n",
       "</text>\n",
       "\n",
       "<text class=\"displacy-token\" fill=\"currentColor\" text-anchor=\"middle\" y=\"484.5\">\n",
       "    <tspan class=\"displacy-word\" fill=\"currentColor\" x=\"1100\">or</tspan>\n",
       "    <tspan class=\"displacy-tag\" dy=\"2em\" fill=\"currentColor\" x=\"1100\">CCONJ</tspan>\n",
       "</text>\n",
       "\n",
       "<text class=\"displacy-token\" fill=\"currentColor\" text-anchor=\"middle\" y=\"484.5\">\n",
       "    <tspan class=\"displacy-word\" fill=\"currentColor\" x=\"1275\">USA),</tspan>\n",
       "    <tspan class=\"displacy-tag\" dy=\"2em\" fill=\"currentColor\" x=\"1275\">PROPN</tspan>\n",
       "</text>\n",
       "\n",
       "<text class=\"displacy-token\" fill=\"currentColor\" text-anchor=\"middle\" y=\"484.5\">\n",
       "    <tspan class=\"displacy-word\" fill=\"currentColor\" x=\"1450\">commonly</tspan>\n",
       "    <tspan class=\"displacy-tag\" dy=\"2em\" fill=\"currentColor\" x=\"1450\">ADV</tspan>\n",
       "</text>\n",
       "\n",
       "<text class=\"displacy-token\" fill=\"currentColor\" text-anchor=\"middle\" y=\"484.5\">\n",
       "    <tspan class=\"displacy-word\" fill=\"currentColor\" x=\"1625\">known</tspan>\n",
       "    <tspan class=\"displacy-tag\" dy=\"2em\" fill=\"currentColor\" x=\"1625\">VERB</tspan>\n",
       "</text>\n",
       "\n",
       "<text class=\"displacy-token\" fill=\"currentColor\" text-anchor=\"middle\" y=\"484.5\">\n",
       "    <tspan class=\"displacy-word\" fill=\"currentColor\" x=\"1800\">as</tspan>\n",
       "    <tspan class=\"displacy-tag\" dy=\"2em\" fill=\"currentColor\" x=\"1800\">ADP</tspan>\n",
       "</text>\n",
       "\n",
       "<text class=\"displacy-token\" fill=\"currentColor\" text-anchor=\"middle\" y=\"484.5\">\n",
       "    <tspan class=\"displacy-word\" fill=\"currentColor\" x=\"1975\">the</tspan>\n",
       "    <tspan class=\"displacy-tag\" dy=\"2em\" fill=\"currentColor\" x=\"1975\">DET</tspan>\n",
       "</text>\n",
       "\n",
       "<text class=\"displacy-token\" fill=\"currentColor\" text-anchor=\"middle\" y=\"484.5\">\n",
       "    <tspan class=\"displacy-word\" fill=\"currentColor\" x=\"2150\">United</tspan>\n",
       "    <tspan class=\"displacy-tag\" dy=\"2em\" fill=\"currentColor\" x=\"2150\">PROPN</tspan>\n",
       "</text>\n",
       "\n",
       "<text class=\"displacy-token\" fill=\"currentColor\" text-anchor=\"middle\" y=\"484.5\">\n",
       "    <tspan class=\"displacy-word\" fill=\"currentColor\" x=\"2325\">States (</tspan>\n",
       "    <tspan class=\"displacy-tag\" dy=\"2em\" fill=\"currentColor\" x=\"2325\">PROPN</tspan>\n",
       "</text>\n",
       "\n",
       "<text class=\"displacy-token\" fill=\"currentColor\" text-anchor=\"middle\" y=\"484.5\">\n",
       "    <tspan class=\"displacy-word\" fill=\"currentColor\" x=\"2500\">U.S.</tspan>\n",
       "    <tspan class=\"displacy-tag\" dy=\"2em\" fill=\"currentColor\" x=\"2500\">PROPN</tspan>\n",
       "</text>\n",
       "\n",
       "<text class=\"displacy-token\" fill=\"currentColor\" text-anchor=\"middle\" y=\"484.5\">\n",
       "    <tspan class=\"displacy-word\" fill=\"currentColor\" x=\"2675\">or</tspan>\n",
       "    <tspan class=\"displacy-tag\" dy=\"2em\" fill=\"currentColor\" x=\"2675\">CCONJ</tspan>\n",
       "</text>\n",
       "\n",
       "<text class=\"displacy-token\" fill=\"currentColor\" text-anchor=\"middle\" y=\"484.5\">\n",
       "    <tspan class=\"displacy-word\" fill=\"currentColor\" x=\"2850\">US)</tspan>\n",
       "    <tspan class=\"displacy-tag\" dy=\"2em\" fill=\"currentColor\" x=\"2850\">PROPN</tspan>\n",
       "</text>\n",
       "\n",
       "<text class=\"displacy-token\" fill=\"currentColor\" text-anchor=\"middle\" y=\"484.5\">\n",
       "    <tspan class=\"displacy-word\" fill=\"currentColor\" x=\"3025\">or</tspan>\n",
       "    <tspan class=\"displacy-tag\" dy=\"2em\" fill=\"currentColor\" x=\"3025\">CCONJ</tspan>\n",
       "</text>\n",
       "\n",
       "<text class=\"displacy-token\" fill=\"currentColor\" text-anchor=\"middle\" y=\"484.5\">\n",
       "    <tspan class=\"displacy-word\" fill=\"currentColor\" x=\"3200\">America,</tspan>\n",
       "    <tspan class=\"displacy-tag\" dy=\"2em\" fill=\"currentColor\" x=\"3200\">PROPN</tspan>\n",
       "</text>\n",
       "\n",
       "<text class=\"displacy-token\" fill=\"currentColor\" text-anchor=\"middle\" y=\"484.5\">\n",
       "    <tspan class=\"displacy-word\" fill=\"currentColor\" x=\"3375\">is</tspan>\n",
       "    <tspan class=\"displacy-tag\" dy=\"2em\" fill=\"currentColor\" x=\"3375\">AUX</tspan>\n",
       "</text>\n",
       "\n",
       "<text class=\"displacy-token\" fill=\"currentColor\" text-anchor=\"middle\" y=\"484.5\">\n",
       "    <tspan class=\"displacy-word\" fill=\"currentColor\" x=\"3550\">a</tspan>\n",
       "    <tspan class=\"displacy-tag\" dy=\"2em\" fill=\"currentColor\" x=\"3550\">DET</tspan>\n",
       "</text>\n",
       "\n",
       "<text class=\"displacy-token\" fill=\"currentColor\" text-anchor=\"middle\" y=\"484.5\">\n",
       "    <tspan class=\"displacy-word\" fill=\"currentColor\" x=\"3725\">country</tspan>\n",
       "    <tspan class=\"displacy-tag\" dy=\"2em\" fill=\"currentColor\" x=\"3725\">NOUN</tspan>\n",
       "</text>\n",
       "\n",
       "<text class=\"displacy-token\" fill=\"currentColor\" text-anchor=\"middle\" y=\"484.5\">\n",
       "    <tspan class=\"displacy-word\" fill=\"currentColor\" x=\"3900\">primarily</tspan>\n",
       "    <tspan class=\"displacy-tag\" dy=\"2em\" fill=\"currentColor\" x=\"3900\">ADV</tspan>\n",
       "</text>\n",
       "\n",
       "<text class=\"displacy-token\" fill=\"currentColor\" text-anchor=\"middle\" y=\"484.5\">\n",
       "    <tspan class=\"displacy-word\" fill=\"currentColor\" x=\"4075\">located</tspan>\n",
       "    <tspan class=\"displacy-tag\" dy=\"2em\" fill=\"currentColor\" x=\"4075\">VERB</tspan>\n",
       "</text>\n",
       "\n",
       "<text class=\"displacy-token\" fill=\"currentColor\" text-anchor=\"middle\" y=\"484.5\">\n",
       "    <tspan class=\"displacy-word\" fill=\"currentColor\" x=\"4250\">in</tspan>\n",
       "    <tspan class=\"displacy-tag\" dy=\"2em\" fill=\"currentColor\" x=\"4250\">ADP</tspan>\n",
       "</text>\n",
       "\n",
       "<text class=\"displacy-token\" fill=\"currentColor\" text-anchor=\"middle\" y=\"484.5\">\n",
       "    <tspan class=\"displacy-word\" fill=\"currentColor\" x=\"4425\">North</tspan>\n",
       "    <tspan class=\"displacy-tag\" dy=\"2em\" fill=\"currentColor\" x=\"4425\">PROPN</tspan>\n",
       "</text>\n",
       "\n",
       "<text class=\"displacy-token\" fill=\"currentColor\" text-anchor=\"middle\" y=\"484.5\">\n",
       "    <tspan class=\"displacy-word\" fill=\"currentColor\" x=\"4600\">America.</tspan>\n",
       "    <tspan class=\"displacy-tag\" dy=\"2em\" fill=\"currentColor\" x=\"4600\">PROPN</tspan>\n",
       "</text>\n",
       "\n",
       "<g class=\"displacy-arrow\">\n",
       "    <path class=\"displacy-arc\" id=\"arrow-c89e18bb0ae1424e920e5a9a0a09cd45-0-0\" stroke-width=\"2px\" d=\"M70,439.5 C70,264.5 385.0,264.5 385.0,439.5\" fill=\"none\" stroke=\"currentColor\"/>\n",
       "    <text dy=\"1.25em\" style=\"font-size: 0.8em; letter-spacing: 1px\">\n",
       "        <textPath xlink:href=\"#arrow-c89e18bb0ae1424e920e5a9a0a09cd45-0-0\" class=\"displacy-label\" startOffset=\"50%\" side=\"left\" fill=\"currentColor\" text-anchor=\"middle\">det</textPath>\n",
       "    </text>\n",
       "    <path class=\"displacy-arrowhead\" d=\"M70,441.5 L62,429.5 78,429.5\" fill=\"currentColor\"/>\n",
       "</g>\n",
       "\n",
       "<g class=\"displacy-arrow\">\n",
       "    <path class=\"displacy-arc\" id=\"arrow-c89e18bb0ae1424e920e5a9a0a09cd45-0-1\" stroke-width=\"2px\" d=\"M245,439.5 C245,352.0 380.0,352.0 380.0,439.5\" fill=\"none\" stroke=\"currentColor\"/>\n",
       "    <text dy=\"1.25em\" style=\"font-size: 0.8em; letter-spacing: 1px\">\n",
       "        <textPath xlink:href=\"#arrow-c89e18bb0ae1424e920e5a9a0a09cd45-0-1\" class=\"displacy-label\" startOffset=\"50%\" side=\"left\" fill=\"currentColor\" text-anchor=\"middle\">compound</textPath>\n",
       "    </text>\n",
       "    <path class=\"displacy-arrowhead\" d=\"M245,441.5 L237,429.5 253,429.5\" fill=\"currentColor\"/>\n",
       "</g>\n",
       "\n",
       "<g class=\"displacy-arrow\">\n",
       "    <path class=\"displacy-arc\" id=\"arrow-c89e18bb0ae1424e920e5a9a0a09cd45-0-2\" stroke-width=\"2px\" d=\"M420,439.5 C420,2.0 3375.0,2.0 3375.0,439.5\" fill=\"none\" stroke=\"currentColor\"/>\n",
       "    <text dy=\"1.25em\" style=\"font-size: 0.8em; letter-spacing: 1px\">\n",
       "        <textPath xlink:href=\"#arrow-c89e18bb0ae1424e920e5a9a0a09cd45-0-2\" class=\"displacy-label\" startOffset=\"50%\" side=\"left\" fill=\"currentColor\" text-anchor=\"middle\">nsubj</textPath>\n",
       "    </text>\n",
       "    <path class=\"displacy-arrowhead\" d=\"M420,441.5 L412,429.5 428,429.5\" fill=\"currentColor\"/>\n",
       "</g>\n",
       "\n",
       "<g class=\"displacy-arrow\">\n",
       "    <path class=\"displacy-arc\" id=\"arrow-c89e18bb0ae1424e920e5a9a0a09cd45-0-3\" stroke-width=\"2px\" d=\"M420,439.5 C420,352.0 555.0,352.0 555.0,439.5\" fill=\"none\" stroke=\"currentColor\"/>\n",
       "    <text dy=\"1.25em\" style=\"font-size: 0.8em; letter-spacing: 1px\">\n",
       "        <textPath xlink:href=\"#arrow-c89e18bb0ae1424e920e5a9a0a09cd45-0-3\" class=\"displacy-label\" startOffset=\"50%\" side=\"left\" fill=\"currentColor\" text-anchor=\"middle\">prep</textPath>\n",
       "    </text>\n",
       "    <path class=\"displacy-arrowhead\" d=\"M555.0,441.5 L563.0,429.5 547.0,429.5\" fill=\"currentColor\"/>\n",
       "</g>\n",
       "\n",
       "<g class=\"displacy-arrow\">\n",
       "    <path class=\"displacy-arc\" id=\"arrow-c89e18bb0ae1424e920e5a9a0a09cd45-0-4\" stroke-width=\"2px\" d=\"M595,439.5 C595,352.0 730.0,352.0 730.0,439.5\" fill=\"none\" stroke=\"currentColor\"/>\n",
       "    <text dy=\"1.25em\" style=\"font-size: 0.8em; letter-spacing: 1px\">\n",
       "        <textPath xlink:href=\"#arrow-c89e18bb0ae1424e920e5a9a0a09cd45-0-4\" class=\"displacy-label\" startOffset=\"50%\" side=\"left\" fill=\"currentColor\" text-anchor=\"middle\">pobj</textPath>\n",
       "    </text>\n",
       "    <path class=\"displacy-arrowhead\" d=\"M730.0,441.5 L738.0,429.5 722.0,429.5\" fill=\"currentColor\"/>\n",
       "</g>\n",
       "\n",
       "<g class=\"displacy-arrow\">\n",
       "    <path class=\"displacy-arc\" id=\"arrow-c89e18bb0ae1424e920e5a9a0a09cd45-0-5\" stroke-width=\"2px\" d=\"M770,439.5 C770,352.0 905.0,352.0 905.0,439.5\" fill=\"none\" stroke=\"currentColor\"/>\n",
       "    <text dy=\"1.25em\" style=\"font-size: 0.8em; letter-spacing: 1px\">\n",
       "        <textPath xlink:href=\"#arrow-c89e18bb0ae1424e920e5a9a0a09cd45-0-5\" class=\"displacy-label\" startOffset=\"50%\" side=\"left\" fill=\"currentColor\" text-anchor=\"middle\">appos</textPath>\n",
       "    </text>\n",
       "    <path class=\"displacy-arrowhead\" d=\"M905.0,441.5 L913.0,429.5 897.0,429.5\" fill=\"currentColor\"/>\n",
       "</g>\n",
       "\n",
       "<g class=\"displacy-arrow\">\n",
       "    <path class=\"displacy-arc\" id=\"arrow-c89e18bb0ae1424e920e5a9a0a09cd45-0-6\" stroke-width=\"2px\" d=\"M945,439.5 C945,352.0 1080.0,352.0 1080.0,439.5\" fill=\"none\" stroke=\"currentColor\"/>\n",
       "    <text dy=\"1.25em\" style=\"font-size: 0.8em; letter-spacing: 1px\">\n",
       "        <textPath xlink:href=\"#arrow-c89e18bb0ae1424e920e5a9a0a09cd45-0-6\" class=\"displacy-label\" startOffset=\"50%\" side=\"left\" fill=\"currentColor\" text-anchor=\"middle\">cc</textPath>\n",
       "    </text>\n",
       "    <path class=\"displacy-arrowhead\" d=\"M1080.0,441.5 L1088.0,429.5 1072.0,429.5\" fill=\"currentColor\"/>\n",
       "</g>\n",
       "\n",
       "<g class=\"displacy-arrow\">\n",
       "    <path class=\"displacy-arc\" id=\"arrow-c89e18bb0ae1424e920e5a9a0a09cd45-0-7\" stroke-width=\"2px\" d=\"M945,439.5 C945,264.5 1260.0,264.5 1260.0,439.5\" fill=\"none\" stroke=\"currentColor\"/>\n",
       "    <text dy=\"1.25em\" style=\"font-size: 0.8em; letter-spacing: 1px\">\n",
       "        <textPath xlink:href=\"#arrow-c89e18bb0ae1424e920e5a9a0a09cd45-0-7\" class=\"displacy-label\" startOffset=\"50%\" side=\"left\" fill=\"currentColor\" text-anchor=\"middle\">conj</textPath>\n",
       "    </text>\n",
       "    <path class=\"displacy-arrowhead\" d=\"M1260.0,441.5 L1268.0,429.5 1252.0,429.5\" fill=\"currentColor\"/>\n",
       "</g>\n",
       "\n",
       "<g class=\"displacy-arrow\">\n",
       "    <path class=\"displacy-arc\" id=\"arrow-c89e18bb0ae1424e920e5a9a0a09cd45-0-8\" stroke-width=\"2px\" d=\"M1470,439.5 C1470,352.0 1605.0,352.0 1605.0,439.5\" fill=\"none\" stroke=\"currentColor\"/>\n",
       "    <text dy=\"1.25em\" style=\"font-size: 0.8em; letter-spacing: 1px\">\n",
       "        <textPath xlink:href=\"#arrow-c89e18bb0ae1424e920e5a9a0a09cd45-0-8\" class=\"displacy-label\" startOffset=\"50%\" side=\"left\" fill=\"currentColor\" text-anchor=\"middle\">advmod</textPath>\n",
       "    </text>\n",
       "    <path class=\"displacy-arrowhead\" d=\"M1470,441.5 L1462,429.5 1478,429.5\" fill=\"currentColor\"/>\n",
       "</g>\n",
       "\n",
       "<g class=\"displacy-arrow\">\n",
       "    <path class=\"displacy-arc\" id=\"arrow-c89e18bb0ae1424e920e5a9a0a09cd45-0-9\" stroke-width=\"2px\" d=\"M420,439.5 C420,177.0 1615.0,177.0 1615.0,439.5\" fill=\"none\" stroke=\"currentColor\"/>\n",
       "    <text dy=\"1.25em\" style=\"font-size: 0.8em; letter-spacing: 1px\">\n",
       "        <textPath xlink:href=\"#arrow-c89e18bb0ae1424e920e5a9a0a09cd45-0-9\" class=\"displacy-label\" startOffset=\"50%\" side=\"left\" fill=\"currentColor\" text-anchor=\"middle\">acl</textPath>\n",
       "    </text>\n",
       "    <path class=\"displacy-arrowhead\" d=\"M1615.0,441.5 L1623.0,429.5 1607.0,429.5\" fill=\"currentColor\"/>\n",
       "</g>\n",
       "\n",
       "<g class=\"displacy-arrow\">\n",
       "    <path class=\"displacy-arc\" id=\"arrow-c89e18bb0ae1424e920e5a9a0a09cd45-0-10\" stroke-width=\"2px\" d=\"M1645,439.5 C1645,352.0 1780.0,352.0 1780.0,439.5\" fill=\"none\" stroke=\"currentColor\"/>\n",
       "    <text dy=\"1.25em\" style=\"font-size: 0.8em; letter-spacing: 1px\">\n",
       "        <textPath xlink:href=\"#arrow-c89e18bb0ae1424e920e5a9a0a09cd45-0-10\" class=\"displacy-label\" startOffset=\"50%\" side=\"left\" fill=\"currentColor\" text-anchor=\"middle\">prep</textPath>\n",
       "    </text>\n",
       "    <path class=\"displacy-arrowhead\" d=\"M1780.0,441.5 L1788.0,429.5 1772.0,429.5\" fill=\"currentColor\"/>\n",
       "</g>\n",
       "\n",
       "<g class=\"displacy-arrow\">\n",
       "    <path class=\"displacy-arc\" id=\"arrow-c89e18bb0ae1424e920e5a9a0a09cd45-0-11\" stroke-width=\"2px\" d=\"M1995,439.5 C1995,264.5 2310.0,264.5 2310.0,439.5\" fill=\"none\" stroke=\"currentColor\"/>\n",
       "    <text dy=\"1.25em\" style=\"font-size: 0.8em; letter-spacing: 1px\">\n",
       "        <textPath xlink:href=\"#arrow-c89e18bb0ae1424e920e5a9a0a09cd45-0-11\" class=\"displacy-label\" startOffset=\"50%\" side=\"left\" fill=\"currentColor\" text-anchor=\"middle\">det</textPath>\n",
       "    </text>\n",
       "    <path class=\"displacy-arrowhead\" d=\"M1995,441.5 L1987,429.5 2003,429.5\" fill=\"currentColor\"/>\n",
       "</g>\n",
       "\n",
       "<g class=\"displacy-arrow\">\n",
       "    <path class=\"displacy-arc\" id=\"arrow-c89e18bb0ae1424e920e5a9a0a09cd45-0-12\" stroke-width=\"2px\" d=\"M2170,439.5 C2170,352.0 2305.0,352.0 2305.0,439.5\" fill=\"none\" stroke=\"currentColor\"/>\n",
       "    <text dy=\"1.25em\" style=\"font-size: 0.8em; letter-spacing: 1px\">\n",
       "        <textPath xlink:href=\"#arrow-c89e18bb0ae1424e920e5a9a0a09cd45-0-12\" class=\"displacy-label\" startOffset=\"50%\" side=\"left\" fill=\"currentColor\" text-anchor=\"middle\">compound</textPath>\n",
       "    </text>\n",
       "    <path class=\"displacy-arrowhead\" d=\"M2170,441.5 L2162,429.5 2178,429.5\" fill=\"currentColor\"/>\n",
       "</g>\n",
       "\n",
       "<g class=\"displacy-arrow\">\n",
       "    <path class=\"displacy-arc\" id=\"arrow-c89e18bb0ae1424e920e5a9a0a09cd45-0-13\" stroke-width=\"2px\" d=\"M1820,439.5 C1820,177.0 2315.0,177.0 2315.0,439.5\" fill=\"none\" stroke=\"currentColor\"/>\n",
       "    <text dy=\"1.25em\" style=\"font-size: 0.8em; letter-spacing: 1px\">\n",
       "        <textPath xlink:href=\"#arrow-c89e18bb0ae1424e920e5a9a0a09cd45-0-13\" class=\"displacy-label\" startOffset=\"50%\" side=\"left\" fill=\"currentColor\" text-anchor=\"middle\">pobj</textPath>\n",
       "    </text>\n",
       "    <path class=\"displacy-arrowhead\" d=\"M2315.0,441.5 L2323.0,429.5 2307.0,429.5\" fill=\"currentColor\"/>\n",
       "</g>\n",
       "\n",
       "<g class=\"displacy-arrow\">\n",
       "    <path class=\"displacy-arc\" id=\"arrow-c89e18bb0ae1424e920e5a9a0a09cd45-0-14\" stroke-width=\"2px\" d=\"M2345,439.5 C2345,352.0 2480.0,352.0 2480.0,439.5\" fill=\"none\" stroke=\"currentColor\"/>\n",
       "    <text dy=\"1.25em\" style=\"font-size: 0.8em; letter-spacing: 1px\">\n",
       "        <textPath xlink:href=\"#arrow-c89e18bb0ae1424e920e5a9a0a09cd45-0-14\" class=\"displacy-label\" startOffset=\"50%\" side=\"left\" fill=\"currentColor\" text-anchor=\"middle\">appos</textPath>\n",
       "    </text>\n",
       "    <path class=\"displacy-arrowhead\" d=\"M2480.0,441.5 L2488.0,429.5 2472.0,429.5\" fill=\"currentColor\"/>\n",
       "</g>\n",
       "\n",
       "<g class=\"displacy-arrow\">\n",
       "    <path class=\"displacy-arc\" id=\"arrow-c89e18bb0ae1424e920e5a9a0a09cd45-0-15\" stroke-width=\"2px\" d=\"M2520,439.5 C2520,352.0 2655.0,352.0 2655.0,439.5\" fill=\"none\" stroke=\"currentColor\"/>\n",
       "    <text dy=\"1.25em\" style=\"font-size: 0.8em; letter-spacing: 1px\">\n",
       "        <textPath xlink:href=\"#arrow-c89e18bb0ae1424e920e5a9a0a09cd45-0-15\" class=\"displacy-label\" startOffset=\"50%\" side=\"left\" fill=\"currentColor\" text-anchor=\"middle\">cc</textPath>\n",
       "    </text>\n",
       "    <path class=\"displacy-arrowhead\" d=\"M2655.0,441.5 L2663.0,429.5 2647.0,429.5\" fill=\"currentColor\"/>\n",
       "</g>\n",
       "\n",
       "<g class=\"displacy-arrow\">\n",
       "    <path class=\"displacy-arc\" id=\"arrow-c89e18bb0ae1424e920e5a9a0a09cd45-0-16\" stroke-width=\"2px\" d=\"M2520,439.5 C2520,264.5 2835.0,264.5 2835.0,439.5\" fill=\"none\" stroke=\"currentColor\"/>\n",
       "    <text dy=\"1.25em\" style=\"font-size: 0.8em; letter-spacing: 1px\">\n",
       "        <textPath xlink:href=\"#arrow-c89e18bb0ae1424e920e5a9a0a09cd45-0-16\" class=\"displacy-label\" startOffset=\"50%\" side=\"left\" fill=\"currentColor\" text-anchor=\"middle\">conj</textPath>\n",
       "    </text>\n",
       "    <path class=\"displacy-arrowhead\" d=\"M2835.0,441.5 L2843.0,429.5 2827.0,429.5\" fill=\"currentColor\"/>\n",
       "</g>\n",
       "\n",
       "<g class=\"displacy-arrow\">\n",
       "    <path class=\"displacy-arc\" id=\"arrow-c89e18bb0ae1424e920e5a9a0a09cd45-0-17\" stroke-width=\"2px\" d=\"M2345,439.5 C2345,177.0 3015.0,177.0 3015.0,439.5\" fill=\"none\" stroke=\"currentColor\"/>\n",
       "    <text dy=\"1.25em\" style=\"font-size: 0.8em; letter-spacing: 1px\">\n",
       "        <textPath xlink:href=\"#arrow-c89e18bb0ae1424e920e5a9a0a09cd45-0-17\" class=\"displacy-label\" startOffset=\"50%\" side=\"left\" fill=\"currentColor\" text-anchor=\"middle\">cc</textPath>\n",
       "    </text>\n",
       "    <path class=\"displacy-arrowhead\" d=\"M3015.0,441.5 L3023.0,429.5 3007.0,429.5\" fill=\"currentColor\"/>\n",
       "</g>\n",
       "\n",
       "<g class=\"displacy-arrow\">\n",
       "    <path class=\"displacy-arc\" id=\"arrow-c89e18bb0ae1424e920e5a9a0a09cd45-0-18\" stroke-width=\"2px\" d=\"M2345,439.5 C2345,89.5 3195.0,89.5 3195.0,439.5\" fill=\"none\" stroke=\"currentColor\"/>\n",
       "    <text dy=\"1.25em\" style=\"font-size: 0.8em; letter-spacing: 1px\">\n",
       "        <textPath xlink:href=\"#arrow-c89e18bb0ae1424e920e5a9a0a09cd45-0-18\" class=\"displacy-label\" startOffset=\"50%\" side=\"left\" fill=\"currentColor\" text-anchor=\"middle\">conj</textPath>\n",
       "    </text>\n",
       "    <path class=\"displacy-arrowhead\" d=\"M3195.0,441.5 L3203.0,429.5 3187.0,429.5\" fill=\"currentColor\"/>\n",
       "</g>\n",
       "\n",
       "<g class=\"displacy-arrow\">\n",
       "    <path class=\"displacy-arc\" id=\"arrow-c89e18bb0ae1424e920e5a9a0a09cd45-0-19\" stroke-width=\"2px\" d=\"M3570,439.5 C3570,352.0 3705.0,352.0 3705.0,439.5\" fill=\"none\" stroke=\"currentColor\"/>\n",
       "    <text dy=\"1.25em\" style=\"font-size: 0.8em; letter-spacing: 1px\">\n",
       "        <textPath xlink:href=\"#arrow-c89e18bb0ae1424e920e5a9a0a09cd45-0-19\" class=\"displacy-label\" startOffset=\"50%\" side=\"left\" fill=\"currentColor\" text-anchor=\"middle\">det</textPath>\n",
       "    </text>\n",
       "    <path class=\"displacy-arrowhead\" d=\"M3570,441.5 L3562,429.5 3578,429.5\" fill=\"currentColor\"/>\n",
       "</g>\n",
       "\n",
       "<g class=\"displacy-arrow\">\n",
       "    <path class=\"displacy-arc\" id=\"arrow-c89e18bb0ae1424e920e5a9a0a09cd45-0-20\" stroke-width=\"2px\" d=\"M3395,439.5 C3395,264.5 3710.0,264.5 3710.0,439.5\" fill=\"none\" stroke=\"currentColor\"/>\n",
       "    <text dy=\"1.25em\" style=\"font-size: 0.8em; letter-spacing: 1px\">\n",
       "        <textPath xlink:href=\"#arrow-c89e18bb0ae1424e920e5a9a0a09cd45-0-20\" class=\"displacy-label\" startOffset=\"50%\" side=\"left\" fill=\"currentColor\" text-anchor=\"middle\">attr</textPath>\n",
       "    </text>\n",
       "    <path class=\"displacy-arrowhead\" d=\"M3710.0,441.5 L3718.0,429.5 3702.0,429.5\" fill=\"currentColor\"/>\n",
       "</g>\n",
       "\n",
       "<g class=\"displacy-arrow\">\n",
       "    <path class=\"displacy-arc\" id=\"arrow-c89e18bb0ae1424e920e5a9a0a09cd45-0-21\" stroke-width=\"2px\" d=\"M3920,439.5 C3920,352.0 4055.0,352.0 4055.0,439.5\" fill=\"none\" stroke=\"currentColor\"/>\n",
       "    <text dy=\"1.25em\" style=\"font-size: 0.8em; letter-spacing: 1px\">\n",
       "        <textPath xlink:href=\"#arrow-c89e18bb0ae1424e920e5a9a0a09cd45-0-21\" class=\"displacy-label\" startOffset=\"50%\" side=\"left\" fill=\"currentColor\" text-anchor=\"middle\">advmod</textPath>\n",
       "    </text>\n",
       "    <path class=\"displacy-arrowhead\" d=\"M3920,441.5 L3912,429.5 3928,429.5\" fill=\"currentColor\"/>\n",
       "</g>\n",
       "\n",
       "<g class=\"displacy-arrow\">\n",
       "    <path class=\"displacy-arc\" id=\"arrow-c89e18bb0ae1424e920e5a9a0a09cd45-0-22\" stroke-width=\"2px\" d=\"M3745,439.5 C3745,264.5 4060.0,264.5 4060.0,439.5\" fill=\"none\" stroke=\"currentColor\"/>\n",
       "    <text dy=\"1.25em\" style=\"font-size: 0.8em; letter-spacing: 1px\">\n",
       "        <textPath xlink:href=\"#arrow-c89e18bb0ae1424e920e5a9a0a09cd45-0-22\" class=\"displacy-label\" startOffset=\"50%\" side=\"left\" fill=\"currentColor\" text-anchor=\"middle\">acl</textPath>\n",
       "    </text>\n",
       "    <path class=\"displacy-arrowhead\" d=\"M4060.0,441.5 L4068.0,429.5 4052.0,429.5\" fill=\"currentColor\"/>\n",
       "</g>\n",
       "\n",
       "<g class=\"displacy-arrow\">\n",
       "    <path class=\"displacy-arc\" id=\"arrow-c89e18bb0ae1424e920e5a9a0a09cd45-0-23\" stroke-width=\"2px\" d=\"M4095,439.5 C4095,352.0 4230.0,352.0 4230.0,439.5\" fill=\"none\" stroke=\"currentColor\"/>\n",
       "    <text dy=\"1.25em\" style=\"font-size: 0.8em; letter-spacing: 1px\">\n",
       "        <textPath xlink:href=\"#arrow-c89e18bb0ae1424e920e5a9a0a09cd45-0-23\" class=\"displacy-label\" startOffset=\"50%\" side=\"left\" fill=\"currentColor\" text-anchor=\"middle\">prep</textPath>\n",
       "    </text>\n",
       "    <path class=\"displacy-arrowhead\" d=\"M4230.0,441.5 L4238.0,429.5 4222.0,429.5\" fill=\"currentColor\"/>\n",
       "</g>\n",
       "\n",
       "<g class=\"displacy-arrow\">\n",
       "    <path class=\"displacy-arc\" id=\"arrow-c89e18bb0ae1424e920e5a9a0a09cd45-0-24\" stroke-width=\"2px\" d=\"M4445,439.5 C4445,352.0 4580.0,352.0 4580.0,439.5\" fill=\"none\" stroke=\"currentColor\"/>\n",
       "    <text dy=\"1.25em\" style=\"font-size: 0.8em; letter-spacing: 1px\">\n",
       "        <textPath xlink:href=\"#arrow-c89e18bb0ae1424e920e5a9a0a09cd45-0-24\" class=\"displacy-label\" startOffset=\"50%\" side=\"left\" fill=\"currentColor\" text-anchor=\"middle\">compound</textPath>\n",
       "    </text>\n",
       "    <path class=\"displacy-arrowhead\" d=\"M4445,441.5 L4437,429.5 4453,429.5\" fill=\"currentColor\"/>\n",
       "</g>\n",
       "\n",
       "<g class=\"displacy-arrow\">\n",
       "    <path class=\"displacy-arc\" id=\"arrow-c89e18bb0ae1424e920e5a9a0a09cd45-0-25\" stroke-width=\"2px\" d=\"M4270,439.5 C4270,264.5 4585.0,264.5 4585.0,439.5\" fill=\"none\" stroke=\"currentColor\"/>\n",
       "    <text dy=\"1.25em\" style=\"font-size: 0.8em; letter-spacing: 1px\">\n",
       "        <textPath xlink:href=\"#arrow-c89e18bb0ae1424e920e5a9a0a09cd45-0-25\" class=\"displacy-label\" startOffset=\"50%\" side=\"left\" fill=\"currentColor\" text-anchor=\"middle\">pobj</textPath>\n",
       "    </text>\n",
       "    <path class=\"displacy-arrowhead\" d=\"M4585.0,441.5 L4593.0,429.5 4577.0,429.5\" fill=\"currentColor\"/>\n",
       "</g>\n",
       "</svg></span>"
      ],
      "text/plain": [
       "<IPython.core.display.HTML object>"
      ]
     },
     "metadata": {},
     "output_type": "display_data"
    }
   ],
   "source": [
    "from spacy import displacy\n",
    "displacy.render(sentence1, style=\"dep\")"
   ]
  },
  {
   "cell_type": "markdown",
   "metadata": {},
   "source": [
    "##  2.6 Named Entity Recognition"
   ]
  },
  {
   "cell_type": "code",
   "execution_count": 28,
   "metadata": {},
   "outputs": [
    {
     "name": "stdout",
     "output_type": "stream",
     "text": [
      "The United States of America GPE\n",
      "USA GPE\n",
      "the United States GPE\n",
      "U.S. GPE\n",
      "US GPE\n",
      "America GPE\n",
      "North America LOC\n",
      "50 CARDINAL\n",
      "five CARDINAL\n",
      "326 CARDINAL\n",
      "Indian NORP\n",
      "3.8 million square miles QUANTITY\n",
      "9.8 million square kilometers QUANTITY\n",
      "fourth ORDINAL\n",
      "The United States GPE\n",
      "Canada GPE\n",
      "Mexico GPE\n",
      "Bahamas GPE\n",
      "Cuba GPE\n",
      "more than 331 million CARDINAL\n",
      "third ORDINAL\n",
      "Washington GPE\n",
      "D.C. GPE\n",
      "New York GPE\n",
      "Paleo-Indians NORP\n",
      "Siberia LOC\n",
      "North American NORP\n",
      "at least 12,000 years ago DATE\n",
      "European NORP\n",
      "the 16th century DATE\n",
      "The United States GPE\n",
      "thirteen CARDINAL\n",
      "British NORP\n",
      "the East Coast LOC\n",
      "Great Britain GPE\n",
      "the American Revolutionary War ORG\n",
      "the late 18th century DATE\n",
      "U.S. GPE\n",
      "North America LOC\n",
      "Native Americans NORP\n",
      "1848 DATE\n",
      "the United States GPE\n",
      "United States GPE\n",
      "the second half of the 19th century DATE\n",
      "the American Civil War ORG\n",
      "The Spanishâ€“American War and World War I EVENT\n",
      "U.S. GPE\n",
      "World War II EVENT\n",
      "the Cold War EVENT\n",
      "the United States GPE\n",
      "the Korean War EVENT\n",
      "the Vietnam War EVENT\n",
      "the Soviet Union GPE\n",
      "two CARDINAL\n",
      "the Space Race FAC\n",
      "1969 DATE\n",
      "first ORDINAL\n",
      "Moon PERSON\n",
      "The Soviet Union's GPE\n",
      "1991 DATE\n",
      "the Cold War EVENT\n",
      "the United States GPE\n",
      "The United States GPE\n",
      "three CARDINAL\n",
      "the United Nations ORG\n",
      "World Bank ORG\n",
      "International Monetary Fund ORG\n",
      "Organization of American States ORG\n",
      "NATO ORG\n",
      "the United Nations Security Council ORG\n",
      "centuries DATE\n",
      "The United States GPE\n",
      "approximately a quarter DATE\n",
      "the United States GPE\n",
      "second ORDINAL\n",
      "only 4.2% PERCENT\n",
      "29.4% PERCENT\n",
      "more than a third CARDINAL\n",
      "internationally.[23 ORG\n"
     ]
    }
   ],
   "source": [
    "for ent in doc.ents:\n",
    "    print(ent.text, ent.label_)"
   ]
  },
  {
   "cell_type": "code",
   "execution_count": 29,
   "metadata": {},
   "outputs": [
    {
     "data": {
      "text/html": [
       "<span class=\"tex2jax_ignore\"><div class=\"entities\" style=\"line-height: 2.5; direction: ltr\">\n",
       "<mark class=\"entity\" style=\"background: #feca74; padding: 0.45em 0.6em; margin: 0 0.25em; line-height: 1; border-radius: 0.35em;\">\n",
       "    The United States of America\n",
       "    <span style=\"font-size: 0.8em; font-weight: bold; line-height: 1; border-radius: 0.35em; vertical-align: middle; margin-left: 0.5rem\">GPE</span>\n",
       "</mark>\n",
       " (U.S.A. or \n",
       "<mark class=\"entity\" style=\"background: #feca74; padding: 0.45em 0.6em; margin: 0 0.25em; line-height: 1; border-radius: 0.35em;\">\n",
       "    USA\n",
       "    <span style=\"font-size: 0.8em; font-weight: bold; line-height: 1; border-radius: 0.35em; vertical-align: middle; margin-left: 0.5rem\">GPE</span>\n",
       "</mark>\n",
       "), commonly known as \n",
       "<mark class=\"entity\" style=\"background: #feca74; padding: 0.45em 0.6em; margin: 0 0.25em; line-height: 1; border-radius: 0.35em;\">\n",
       "    the United States\n",
       "    <span style=\"font-size: 0.8em; font-weight: bold; line-height: 1; border-radius: 0.35em; vertical-align: middle; margin-left: 0.5rem\">GPE</span>\n",
       "</mark>\n",
       " (\n",
       "<mark class=\"entity\" style=\"background: #feca74; padding: 0.45em 0.6em; margin: 0 0.25em; line-height: 1; border-radius: 0.35em;\">\n",
       "    U.S.\n",
       "    <span style=\"font-size: 0.8em; font-weight: bold; line-height: 1; border-radius: 0.35em; vertical-align: middle; margin-left: 0.5rem\">GPE</span>\n",
       "</mark>\n",
       " or \n",
       "<mark class=\"entity\" style=\"background: #feca74; padding: 0.45em 0.6em; margin: 0 0.25em; line-height: 1; border-radius: 0.35em;\">\n",
       "    US\n",
       "    <span style=\"font-size: 0.8em; font-weight: bold; line-height: 1; border-radius: 0.35em; vertical-align: middle; margin-left: 0.5rem\">GPE</span>\n",
       "</mark>\n",
       ") or \n",
       "<mark class=\"entity\" style=\"background: #feca74; padding: 0.45em 0.6em; margin: 0 0.25em; line-height: 1; border-radius: 0.35em;\">\n",
       "    America\n",
       "    <span style=\"font-size: 0.8em; font-weight: bold; line-height: 1; border-radius: 0.35em; vertical-align: middle; margin-left: 0.5rem\">GPE</span>\n",
       "</mark>\n",
       ", is a country primarily located in \n",
       "<mark class=\"entity\" style=\"background: #ff9561; padding: 0.45em 0.6em; margin: 0 0.25em; line-height: 1; border-radius: 0.35em;\">\n",
       "    North America\n",
       "    <span style=\"font-size: 0.8em; font-weight: bold; line-height: 1; border-radius: 0.35em; vertical-align: middle; margin-left: 0.5rem\">LOC</span>\n",
       "</mark>\n",
       ". It consists of \n",
       "<mark class=\"entity\" style=\"background: #e4e7d2; padding: 0.45em 0.6em; margin: 0 0.25em; line-height: 1; border-radius: 0.35em;\">\n",
       "    50\n",
       "    <span style=\"font-size: 0.8em; font-weight: bold; line-height: 1; border-radius: 0.35em; vertical-align: middle; margin-left: 0.5rem\">CARDINAL</span>\n",
       "</mark>\n",
       " states, a federal district, \n",
       "<mark class=\"entity\" style=\"background: #e4e7d2; padding: 0.45em 0.6em; margin: 0 0.25em; line-height: 1; border-radius: 0.35em;\">\n",
       "    five\n",
       "    <span style=\"font-size: 0.8em; font-weight: bold; line-height: 1; border-radius: 0.35em; vertical-align: middle; margin-left: 0.5rem\">CARDINAL</span>\n",
       "</mark>\n",
       " major unincorporated territories, \n",
       "<mark class=\"entity\" style=\"background: #e4e7d2; padding: 0.45em 0.6em; margin: 0 0.25em; line-height: 1; border-radius: 0.35em;\">\n",
       "    326\n",
       "    <span style=\"font-size: 0.8em; font-weight: bold; line-height: 1; border-radius: 0.35em; vertical-align: middle; margin-left: 0.5rem\">CARDINAL</span>\n",
       "</mark>\n",
       " \n",
       "<mark class=\"entity\" style=\"background: #c887fb; padding: 0.45em 0.6em; margin: 0 0.25em; line-height: 1; border-radius: 0.35em;\">\n",
       "    Indian\n",
       "    <span style=\"font-size: 0.8em; font-weight: bold; line-height: 1; border-radius: 0.35em; vertical-align: middle; margin-left: 0.5rem\">NORP</span>\n",
       "</mark>\n",
       " reservations, and some minor possessions.[j] At \n",
       "<mark class=\"entity\" style=\"background: #e4e7d2; padding: 0.45em 0.6em; margin: 0 0.25em; line-height: 1; border-radius: 0.35em;\">\n",
       "    3.8 million square miles\n",
       "    <span style=\"font-size: 0.8em; font-weight: bold; line-height: 1; border-radius: 0.35em; vertical-align: middle; margin-left: 0.5rem\">QUANTITY</span>\n",
       "</mark>\n",
       " (\n",
       "<mark class=\"entity\" style=\"background: #e4e7d2; padding: 0.45em 0.6em; margin: 0 0.25em; line-height: 1; border-radius: 0.35em;\">\n",
       "    9.8 million square kilometers\n",
       "    <span style=\"font-size: 0.8em; font-weight: bold; line-height: 1; border-radius: 0.35em; vertical-align: middle; margin-left: 0.5rem\">QUANTITY</span>\n",
       "</mark>\n",
       "), it is the world's third- or \n",
       "<mark class=\"entity\" style=\"background: #e4e7d2; padding: 0.45em 0.6em; margin: 0 0.25em; line-height: 1; border-radius: 0.35em;\">\n",
       "    fourth\n",
       "    <span style=\"font-size: 0.8em; font-weight: bold; line-height: 1; border-radius: 0.35em; vertical-align: middle; margin-left: 0.5rem\">ORDINAL</span>\n",
       "</mark>\n",
       "-largest country by total area.[d] \n",
       "<mark class=\"entity\" style=\"background: #feca74; padding: 0.45em 0.6em; margin: 0 0.25em; line-height: 1; border-radius: 0.35em;\">\n",
       "    The United States\n",
       "    <span style=\"font-size: 0.8em; font-weight: bold; line-height: 1; border-radius: 0.35em; vertical-align: middle; margin-left: 0.5rem\">GPE</span>\n",
       "</mark>\n",
       " shares significant land borders with \n",
       "<mark class=\"entity\" style=\"background: #feca74; padding: 0.45em 0.6em; margin: 0 0.25em; line-height: 1; border-radius: 0.35em;\">\n",
       "    Canada\n",
       "    <span style=\"font-size: 0.8em; font-weight: bold; line-height: 1; border-radius: 0.35em; vertical-align: middle; margin-left: 0.5rem\">GPE</span>\n",
       "</mark>\n",
       " to the north and \n",
       "<mark class=\"entity\" style=\"background: #feca74; padding: 0.45em 0.6em; margin: 0 0.25em; line-height: 1; border-radius: 0.35em;\">\n",
       "    Mexico\n",
       "    <span style=\"font-size: 0.8em; font-weight: bold; line-height: 1; border-radius: 0.35em; vertical-align: middle; margin-left: 0.5rem\">GPE</span>\n",
       "</mark>\n",
       " to the south, as well as limited maritime borders with the \n",
       "<mark class=\"entity\" style=\"background: #feca74; padding: 0.45em 0.6em; margin: 0 0.25em; line-height: 1; border-radius: 0.35em;\">\n",
       "    Bahamas\n",
       "    <span style=\"font-size: 0.8em; font-weight: bold; line-height: 1; border-radius: 0.35em; vertical-align: middle; margin-left: 0.5rem\">GPE</span>\n",
       "</mark>\n",
       ", \n",
       "<mark class=\"entity\" style=\"background: #feca74; padding: 0.45em 0.6em; margin: 0 0.25em; line-height: 1; border-radius: 0.35em;\">\n",
       "    Cuba\n",
       "    <span style=\"font-size: 0.8em; font-weight: bold; line-height: 1; border-radius: 0.35em; vertical-align: middle; margin-left: 0.5rem\">GPE</span>\n",
       "</mark>\n",
       ", and Russia.[22] With a population of \n",
       "<mark class=\"entity\" style=\"background: #e4e7d2; padding: 0.45em 0.6em; margin: 0 0.25em; line-height: 1; border-radius: 0.35em;\">\n",
       "    more than 331 million\n",
       "    <span style=\"font-size: 0.8em; font-weight: bold; line-height: 1; border-radius: 0.35em; vertical-align: middle; margin-left: 0.5rem\">CARDINAL</span>\n",
       "</mark>\n",
       " people, it is the \n",
       "<mark class=\"entity\" style=\"background: #e4e7d2; padding: 0.45em 0.6em; margin: 0 0.25em; line-height: 1; border-radius: 0.35em;\">\n",
       "    third\n",
       "    <span style=\"font-size: 0.8em; font-weight: bold; line-height: 1; border-radius: 0.35em; vertical-align: middle; margin-left: 0.5rem\">ORDINAL</span>\n",
       "</mark>\n",
       " most populous country in the world. The national capital is \n",
       "<mark class=\"entity\" style=\"background: #feca74; padding: 0.45em 0.6em; margin: 0 0.25em; line-height: 1; border-radius: 0.35em;\">\n",
       "    Washington\n",
       "    <span style=\"font-size: 0.8em; font-weight: bold; line-height: 1; border-radius: 0.35em; vertical-align: middle; margin-left: 0.5rem\">GPE</span>\n",
       "</mark>\n",
       ", \n",
       "<mark class=\"entity\" style=\"background: #feca74; padding: 0.45em 0.6em; margin: 0 0.25em; line-height: 1; border-radius: 0.35em;\">\n",
       "    D.C.\n",
       "    <span style=\"font-size: 0.8em; font-weight: bold; line-height: 1; border-radius: 0.35em; vertical-align: middle; margin-left: 0.5rem\">GPE</span>\n",
       "</mark>\n",
       ", and the most populous city is \n",
       "<mark class=\"entity\" style=\"background: #feca74; padding: 0.45em 0.6em; margin: 0 0.25em; line-height: 1; border-radius: 0.35em;\">\n",
       "    New York\n",
       "    <span style=\"font-size: 0.8em; font-weight: bold; line-height: 1; border-radius: 0.35em; vertical-align: middle; margin-left: 0.5rem\">GPE</span>\n",
       "</mark>\n",
       ".<br><br>\n",
       "<mark class=\"entity\" style=\"background: #c887fb; padding: 0.45em 0.6em; margin: 0 0.25em; line-height: 1; border-radius: 0.35em;\">\n",
       "    Paleo-Indians\n",
       "    <span style=\"font-size: 0.8em; font-weight: bold; line-height: 1; border-radius: 0.35em; vertical-align: middle; margin-left: 0.5rem\">NORP</span>\n",
       "</mark>\n",
       " migrated from \n",
       "<mark class=\"entity\" style=\"background: #ff9561; padding: 0.45em 0.6em; margin: 0 0.25em; line-height: 1; border-radius: 0.35em;\">\n",
       "    Siberia\n",
       "    <span style=\"font-size: 0.8em; font-weight: bold; line-height: 1; border-radius: 0.35em; vertical-align: middle; margin-left: 0.5rem\">LOC</span>\n",
       "</mark>\n",
       " to the \n",
       "<mark class=\"entity\" style=\"background: #c887fb; padding: 0.45em 0.6em; margin: 0 0.25em; line-height: 1; border-radius: 0.35em;\">\n",
       "    North American\n",
       "    <span style=\"font-size: 0.8em; font-weight: bold; line-height: 1; border-radius: 0.35em; vertical-align: middle; margin-left: 0.5rem\">NORP</span>\n",
       "</mark>\n",
       " mainland \n",
       "<mark class=\"entity\" style=\"background: #bfe1d9; padding: 0.45em 0.6em; margin: 0 0.25em; line-height: 1; border-radius: 0.35em;\">\n",
       "    at least 12,000 years ago\n",
       "    <span style=\"font-size: 0.8em; font-weight: bold; line-height: 1; border-radius: 0.35em; vertical-align: middle; margin-left: 0.5rem\">DATE</span>\n",
       "</mark>\n",
       ", and \n",
       "<mark class=\"entity\" style=\"background: #c887fb; padding: 0.45em 0.6em; margin: 0 0.25em; line-height: 1; border-radius: 0.35em;\">\n",
       "    European\n",
       "    <span style=\"font-size: 0.8em; font-weight: bold; line-height: 1; border-radius: 0.35em; vertical-align: middle; margin-left: 0.5rem\">NORP</span>\n",
       "</mark>\n",
       " colonization began in \n",
       "<mark class=\"entity\" style=\"background: #bfe1d9; padding: 0.45em 0.6em; margin: 0 0.25em; line-height: 1; border-radius: 0.35em;\">\n",
       "    the 16th century\n",
       "    <span style=\"font-size: 0.8em; font-weight: bold; line-height: 1; border-radius: 0.35em; vertical-align: middle; margin-left: 0.5rem\">DATE</span>\n",
       "</mark>\n",
       ". \n",
       "<mark class=\"entity\" style=\"background: #feca74; padding: 0.45em 0.6em; margin: 0 0.25em; line-height: 1; border-radius: 0.35em;\">\n",
       "    The United States\n",
       "    <span style=\"font-size: 0.8em; font-weight: bold; line-height: 1; border-radius: 0.35em; vertical-align: middle; margin-left: 0.5rem\">GPE</span>\n",
       "</mark>\n",
       " emerged from the \n",
       "<mark class=\"entity\" style=\"background: #e4e7d2; padding: 0.45em 0.6em; margin: 0 0.25em; line-height: 1; border-radius: 0.35em;\">\n",
       "    thirteen\n",
       "    <span style=\"font-size: 0.8em; font-weight: bold; line-height: 1; border-radius: 0.35em; vertical-align: middle; margin-left: 0.5rem\">CARDINAL</span>\n",
       "</mark>\n",
       " \n",
       "<mark class=\"entity\" style=\"background: #c887fb; padding: 0.45em 0.6em; margin: 0 0.25em; line-height: 1; border-radius: 0.35em;\">\n",
       "    British\n",
       "    <span style=\"font-size: 0.8em; font-weight: bold; line-height: 1; border-radius: 0.35em; vertical-align: middle; margin-left: 0.5rem\">NORP</span>\n",
       "</mark>\n",
       " colonies established along \n",
       "<mark class=\"entity\" style=\"background: #ff9561; padding: 0.45em 0.6em; margin: 0 0.25em; line-height: 1; border-radius: 0.35em;\">\n",
       "    the East Coast\n",
       "    <span style=\"font-size: 0.8em; font-weight: bold; line-height: 1; border-radius: 0.35em; vertical-align: middle; margin-left: 0.5rem\">LOC</span>\n",
       "</mark>\n",
       ". Disputes over taxation and political representation with \n",
       "<mark class=\"entity\" style=\"background: #feca74; padding: 0.45em 0.6em; margin: 0 0.25em; line-height: 1; border-radius: 0.35em;\">\n",
       "    Great Britain\n",
       "    <span style=\"font-size: 0.8em; font-weight: bold; line-height: 1; border-radius: 0.35em; vertical-align: middle; margin-left: 0.5rem\">GPE</span>\n",
       "</mark>\n",
       " led to \n",
       "<mark class=\"entity\" style=\"background: #7aecec; padding: 0.45em 0.6em; margin: 0 0.25em; line-height: 1; border-radius: 0.35em;\">\n",
       "    the American Revolutionary War\n",
       "    <span style=\"font-size: 0.8em; font-weight: bold; line-height: 1; border-radius: 0.35em; vertical-align: middle; margin-left: 0.5rem\">ORG</span>\n",
       "</mark>\n",
       " (1775â€“1783), which established independence. In \n",
       "<mark class=\"entity\" style=\"background: #bfe1d9; padding: 0.45em 0.6em; margin: 0 0.25em; line-height: 1; border-radius: 0.35em;\">\n",
       "    the late 18th century\n",
       "    <span style=\"font-size: 0.8em; font-weight: bold; line-height: 1; border-radius: 0.35em; vertical-align: middle; margin-left: 0.5rem\">DATE</span>\n",
       "</mark>\n",
       ", the \n",
       "<mark class=\"entity\" style=\"background: #feca74; padding: 0.45em 0.6em; margin: 0 0.25em; line-height: 1; border-radius: 0.35em;\">\n",
       "    U.S.\n",
       "    <span style=\"font-size: 0.8em; font-weight: bold; line-height: 1; border-radius: 0.35em; vertical-align: middle; margin-left: 0.5rem\">GPE</span>\n",
       "</mark>\n",
       " began expanding across \n",
       "<mark class=\"entity\" style=\"background: #ff9561; padding: 0.45em 0.6em; margin: 0 0.25em; line-height: 1; border-radius: 0.35em;\">\n",
       "    North America\n",
       "    <span style=\"font-size: 0.8em; font-weight: bold; line-height: 1; border-radius: 0.35em; vertical-align: middle; margin-left: 0.5rem\">LOC</span>\n",
       "</mark>\n",
       ", gradually obtaining new territories, sometimes through war, frequently displacing \n",
       "<mark class=\"entity\" style=\"background: #c887fb; padding: 0.45em 0.6em; margin: 0 0.25em; line-height: 1; border-radius: 0.35em;\">\n",
       "    Native Americans\n",
       "    <span style=\"font-size: 0.8em; font-weight: bold; line-height: 1; border-radius: 0.35em; vertical-align: middle; margin-left: 0.5rem\">NORP</span>\n",
       "</mark>\n",
       ", and admitting new states; by \n",
       "<mark class=\"entity\" style=\"background: #bfe1d9; padding: 0.45em 0.6em; margin: 0 0.25em; line-height: 1; border-radius: 0.35em;\">\n",
       "    1848\n",
       "    <span style=\"font-size: 0.8em; font-weight: bold; line-height: 1; border-radius: 0.35em; vertical-align: middle; margin-left: 0.5rem\">DATE</span>\n",
       "</mark>\n",
       ", \n",
       "<mark class=\"entity\" style=\"background: #feca74; padding: 0.45em 0.6em; margin: 0 0.25em; line-height: 1; border-radius: 0.35em;\">\n",
       "    the United States\n",
       "    <span style=\"font-size: 0.8em; font-weight: bold; line-height: 1; border-radius: 0.35em; vertical-align: middle; margin-left: 0.5rem\">GPE</span>\n",
       "</mark>\n",
       " spanned the continent. Slavery was legal in the southern \n",
       "<mark class=\"entity\" style=\"background: #feca74; padding: 0.45em 0.6em; margin: 0 0.25em; line-height: 1; border-radius: 0.35em;\">\n",
       "    United States\n",
       "    <span style=\"font-size: 0.8em; font-weight: bold; line-height: 1; border-radius: 0.35em; vertical-align: middle; margin-left: 0.5rem\">GPE</span>\n",
       "</mark>\n",
       " until \n",
       "<mark class=\"entity\" style=\"background: #bfe1d9; padding: 0.45em 0.6em; margin: 0 0.25em; line-height: 1; border-radius: 0.35em;\">\n",
       "    the second half of the 19th century\n",
       "    <span style=\"font-size: 0.8em; font-weight: bold; line-height: 1; border-radius: 0.35em; vertical-align: middle; margin-left: 0.5rem\">DATE</span>\n",
       "</mark>\n",
       " when \n",
       "<mark class=\"entity\" style=\"background: #7aecec; padding: 0.45em 0.6em; margin: 0 0.25em; line-height: 1; border-radius: 0.35em;\">\n",
       "    the American Civil War\n",
       "    <span style=\"font-size: 0.8em; font-weight: bold; line-height: 1; border-radius: 0.35em; vertical-align: middle; margin-left: 0.5rem\">ORG</span>\n",
       "</mark>\n",
       " led to its abolition. \n",
       "<mark class=\"entity\" style=\"background: #ffeb80; padding: 0.45em 0.6em; margin: 0 0.25em; line-height: 1; border-radius: 0.35em;\">\n",
       "    The Spanishâ€“American War and World War I\n",
       "    <span style=\"font-size: 0.8em; font-weight: bold; line-height: 1; border-radius: 0.35em; vertical-align: middle; margin-left: 0.5rem\">EVENT</span>\n",
       "</mark>\n",
       " established the \n",
       "<mark class=\"entity\" style=\"background: #feca74; padding: 0.45em 0.6em; margin: 0 0.25em; line-height: 1; border-radius: 0.35em;\">\n",
       "    U.S.\n",
       "    <span style=\"font-size: 0.8em; font-weight: bold; line-height: 1; border-radius: 0.35em; vertical-align: middle; margin-left: 0.5rem\">GPE</span>\n",
       "</mark>\n",
       " as a world power, a status confirmed by the outcome of \n",
       "<mark class=\"entity\" style=\"background: #ffeb80; padding: 0.45em 0.6em; margin: 0 0.25em; line-height: 1; border-radius: 0.35em;\">\n",
       "    World War II\n",
       "    <span style=\"font-size: 0.8em; font-weight: bold; line-height: 1; border-radius: 0.35em; vertical-align: middle; margin-left: 0.5rem\">EVENT</span>\n",
       "</mark>\n",
       ".<br><br>During \n",
       "<mark class=\"entity\" style=\"background: #ffeb80; padding: 0.45em 0.6em; margin: 0 0.25em; line-height: 1; border-radius: 0.35em;\">\n",
       "    the Cold War\n",
       "    <span style=\"font-size: 0.8em; font-weight: bold; line-height: 1; border-radius: 0.35em; vertical-align: middle; margin-left: 0.5rem\">EVENT</span>\n",
       "</mark>\n",
       ", \n",
       "<mark class=\"entity\" style=\"background: #feca74; padding: 0.45em 0.6em; margin: 0 0.25em; line-height: 1; border-radius: 0.35em;\">\n",
       "    the United States\n",
       "    <span style=\"font-size: 0.8em; font-weight: bold; line-height: 1; border-radius: 0.35em; vertical-align: middle; margin-left: 0.5rem\">GPE</span>\n",
       "</mark>\n",
       " fought \n",
       "<mark class=\"entity\" style=\"background: #ffeb80; padding: 0.45em 0.6em; margin: 0 0.25em; line-height: 1; border-radius: 0.35em;\">\n",
       "    the Korean War\n",
       "    <span style=\"font-size: 0.8em; font-weight: bold; line-height: 1; border-radius: 0.35em; vertical-align: middle; margin-left: 0.5rem\">EVENT</span>\n",
       "</mark>\n",
       " and \n",
       "<mark class=\"entity\" style=\"background: #ffeb80; padding: 0.45em 0.6em; margin: 0 0.25em; line-height: 1; border-radius: 0.35em;\">\n",
       "    the Vietnam War\n",
       "    <span style=\"font-size: 0.8em; font-weight: bold; line-height: 1; border-radius: 0.35em; vertical-align: middle; margin-left: 0.5rem\">EVENT</span>\n",
       "</mark>\n",
       " but avoided direct military conflict with \n",
       "<mark class=\"entity\" style=\"background: #feca74; padding: 0.45em 0.6em; margin: 0 0.25em; line-height: 1; border-radius: 0.35em;\">\n",
       "    the Soviet Union\n",
       "    <span style=\"font-size: 0.8em; font-weight: bold; line-height: 1; border-radius: 0.35em; vertical-align: middle; margin-left: 0.5rem\">GPE</span>\n",
       "</mark>\n",
       ". The \n",
       "<mark class=\"entity\" style=\"background: #e4e7d2; padding: 0.45em 0.6em; margin: 0 0.25em; line-height: 1; border-radius: 0.35em;\">\n",
       "    two\n",
       "    <span style=\"font-size: 0.8em; font-weight: bold; line-height: 1; border-radius: 0.35em; vertical-align: middle; margin-left: 0.5rem\">CARDINAL</span>\n",
       "</mark>\n",
       " superpowers competed in \n",
       "<mark class=\"entity\" style=\"background: #9cc9cc; padding: 0.45em 0.6em; margin: 0 0.25em; line-height: 1; border-radius: 0.35em;\">\n",
       "    the Space Race\n",
       "    <span style=\"font-size: 0.8em; font-weight: bold; line-height: 1; border-radius: 0.35em; vertical-align: middle; margin-left: 0.5rem\">FAC</span>\n",
       "</mark>\n",
       ", culminating in the \n",
       "<mark class=\"entity\" style=\"background: #bfe1d9; padding: 0.45em 0.6em; margin: 0 0.25em; line-height: 1; border-radius: 0.35em;\">\n",
       "    1969\n",
       "    <span style=\"font-size: 0.8em; font-weight: bold; line-height: 1; border-radius: 0.35em; vertical-align: middle; margin-left: 0.5rem\">DATE</span>\n",
       "</mark>\n",
       " spaceflight that \n",
       "<mark class=\"entity\" style=\"background: #e4e7d2; padding: 0.45em 0.6em; margin: 0 0.25em; line-height: 1; border-radius: 0.35em;\">\n",
       "    first\n",
       "    <span style=\"font-size: 0.8em; font-weight: bold; line-height: 1; border-radius: 0.35em; vertical-align: middle; margin-left: 0.5rem\">ORDINAL</span>\n",
       "</mark>\n",
       " landed humans on the \n",
       "<mark class=\"entity\" style=\"background: #aa9cfc; padding: 0.45em 0.6em; margin: 0 0.25em; line-height: 1; border-radius: 0.35em;\">\n",
       "    Moon\n",
       "    <span style=\"font-size: 0.8em; font-weight: bold; line-height: 1; border-radius: 0.35em; vertical-align: middle; margin-left: 0.5rem\">PERSON</span>\n",
       "</mark>\n",
       ". \n",
       "<mark class=\"entity\" style=\"background: #feca74; padding: 0.45em 0.6em; margin: 0 0.25em; line-height: 1; border-radius: 0.35em;\">\n",
       "    The Soviet Union's\n",
       "    <span style=\"font-size: 0.8em; font-weight: bold; line-height: 1; border-radius: 0.35em; vertical-align: middle; margin-left: 0.5rem\">GPE</span>\n",
       "</mark>\n",
       " dissolution in \n",
       "<mark class=\"entity\" style=\"background: #bfe1d9; padding: 0.45em 0.6em; margin: 0 0.25em; line-height: 1; border-radius: 0.35em;\">\n",
       "    1991\n",
       "    <span style=\"font-size: 0.8em; font-weight: bold; line-height: 1; border-radius: 0.35em; vertical-align: middle; margin-left: 0.5rem\">DATE</span>\n",
       "</mark>\n",
       " ended \n",
       "<mark class=\"entity\" style=\"background: #ffeb80; padding: 0.45em 0.6em; margin: 0 0.25em; line-height: 1; border-radius: 0.35em;\">\n",
       "    the Cold War\n",
       "    <span style=\"font-size: 0.8em; font-weight: bold; line-height: 1; border-radius: 0.35em; vertical-align: middle; margin-left: 0.5rem\">EVENT</span>\n",
       "</mark>\n",
       ", leaving \n",
       "<mark class=\"entity\" style=\"background: #feca74; padding: 0.45em 0.6em; margin: 0 0.25em; line-height: 1; border-radius: 0.35em;\">\n",
       "    the United States\n",
       "    <span style=\"font-size: 0.8em; font-weight: bold; line-height: 1; border-radius: 0.35em; vertical-align: middle; margin-left: 0.5rem\">GPE</span>\n",
       "</mark>\n",
       " as the world's sole superpower.<br><br>\n",
       "<mark class=\"entity\" style=\"background: #feca74; padding: 0.45em 0.6em; margin: 0 0.25em; line-height: 1; border-radius: 0.35em;\">\n",
       "    The United States\n",
       "    <span style=\"font-size: 0.8em; font-weight: bold; line-height: 1; border-radius: 0.35em; vertical-align: middle; margin-left: 0.5rem\">GPE</span>\n",
       "</mark>\n",
       " is a federal republic and a representative democracy with \n",
       "<mark class=\"entity\" style=\"background: #e4e7d2; padding: 0.45em 0.6em; margin: 0 0.25em; line-height: 1; border-radius: 0.35em;\">\n",
       "    three\n",
       "    <span style=\"font-size: 0.8em; font-weight: bold; line-height: 1; border-radius: 0.35em; vertical-align: middle; margin-left: 0.5rem\">CARDINAL</span>\n",
       "</mark>\n",
       " separate branches of government, including a bicameral legislature. It is a founding member of \n",
       "<mark class=\"entity\" style=\"background: #7aecec; padding: 0.45em 0.6em; margin: 0 0.25em; line-height: 1; border-radius: 0.35em;\">\n",
       "    the United Nations\n",
       "    <span style=\"font-size: 0.8em; font-weight: bold; line-height: 1; border-radius: 0.35em; vertical-align: middle; margin-left: 0.5rem\">ORG</span>\n",
       "</mark>\n",
       ", \n",
       "<mark class=\"entity\" style=\"background: #7aecec; padding: 0.45em 0.6em; margin: 0 0.25em; line-height: 1; border-radius: 0.35em;\">\n",
       "    World Bank\n",
       "    <span style=\"font-size: 0.8em; font-weight: bold; line-height: 1; border-radius: 0.35em; vertical-align: middle; margin-left: 0.5rem\">ORG</span>\n",
       "</mark>\n",
       ", \n",
       "<mark class=\"entity\" style=\"background: #7aecec; padding: 0.45em 0.6em; margin: 0 0.25em; line-height: 1; border-radius: 0.35em;\">\n",
       "    International Monetary Fund\n",
       "    <span style=\"font-size: 0.8em; font-weight: bold; line-height: 1; border-radius: 0.35em; vertical-align: middle; margin-left: 0.5rem\">ORG</span>\n",
       "</mark>\n",
       ", \n",
       "<mark class=\"entity\" style=\"background: #7aecec; padding: 0.45em 0.6em; margin: 0 0.25em; line-height: 1; border-radius: 0.35em;\">\n",
       "    Organization of American States\n",
       "    <span style=\"font-size: 0.8em; font-weight: bold; line-height: 1; border-radius: 0.35em; vertical-align: middle; margin-left: 0.5rem\">ORG</span>\n",
       "</mark>\n",
       ", \n",
       "<mark class=\"entity\" style=\"background: #7aecec; padding: 0.45em 0.6em; margin: 0 0.25em; line-height: 1; border-radius: 0.35em;\">\n",
       "    NATO\n",
       "    <span style=\"font-size: 0.8em; font-weight: bold; line-height: 1; border-radius: 0.35em; vertical-align: middle; margin-left: 0.5rem\">ORG</span>\n",
       "</mark>\n",
       ", and other international organizations. It is a permanent member of \n",
       "<mark class=\"entity\" style=\"background: #7aecec; padding: 0.45em 0.6em; margin: 0 0.25em; line-height: 1; border-radius: 0.35em;\">\n",
       "    the United Nations Security Council\n",
       "    <span style=\"font-size: 0.8em; font-weight: bold; line-height: 1; border-radius: 0.35em; vertical-align: middle; margin-left: 0.5rem\">ORG</span>\n",
       "</mark>\n",
       ". Considered a melting pot of cultures and ethnicities, its population has been profoundly shaped by \n",
       "<mark class=\"entity\" style=\"background: #bfe1d9; padding: 0.45em 0.6em; margin: 0 0.25em; line-height: 1; border-radius: 0.35em;\">\n",
       "    centuries\n",
       "    <span style=\"font-size: 0.8em; font-weight: bold; line-height: 1; border-radius: 0.35em; vertical-align: middle; margin-left: 0.5rem\">DATE</span>\n",
       "</mark>\n",
       " of immigration. The country ranks high in international measures of economic freedom, quality of life, education, and human rights, and has low levels of perceived corruption. However, the country has received criticism concerning inequality related to race, wealth and income, the use of capital punishment, high incarceration rates, and lack of universal health care.<br><br>\n",
       "<mark class=\"entity\" style=\"background: #feca74; padding: 0.45em 0.6em; margin: 0 0.25em; line-height: 1; border-radius: 0.35em;\">\n",
       "    The United States\n",
       "    <span style=\"font-size: 0.8em; font-weight: bold; line-height: 1; border-radius: 0.35em; vertical-align: middle; margin-left: 0.5rem\">GPE</span>\n",
       "</mark>\n",
       " is a highly developed country, accounts for \n",
       "<mark class=\"entity\" style=\"background: #bfe1d9; padding: 0.45em 0.6em; margin: 0 0.25em; line-height: 1; border-radius: 0.35em;\">\n",
       "    approximately a quarter\n",
       "    <span style=\"font-size: 0.8em; font-weight: bold; line-height: 1; border-radius: 0.35em; vertical-align: middle; margin-left: 0.5rem\">DATE</span>\n",
       "</mark>\n",
       " of global GDP, and is the world's largest economy. By value, \n",
       "<mark class=\"entity\" style=\"background: #feca74; padding: 0.45em 0.6em; margin: 0 0.25em; line-height: 1; border-radius: 0.35em;\">\n",
       "    the United States\n",
       "    <span style=\"font-size: 0.8em; font-weight: bold; line-height: 1; border-radius: 0.35em; vertical-align: middle; margin-left: 0.5rem\">GPE</span>\n",
       "</mark>\n",
       " is the world's largest importer and the \n",
       "<mark class=\"entity\" style=\"background: #e4e7d2; padding: 0.45em 0.6em; margin: 0 0.25em; line-height: 1; border-radius: 0.35em;\">\n",
       "    second\n",
       "    <span style=\"font-size: 0.8em; font-weight: bold; line-height: 1; border-radius: 0.35em; vertical-align: middle; margin-left: 0.5rem\">ORDINAL</span>\n",
       "</mark>\n",
       "-largest exporter of goods. Although its population is \n",
       "<mark class=\"entity\" style=\"background: #e4e7d2; padding: 0.45em 0.6em; margin: 0 0.25em; line-height: 1; border-radius: 0.35em;\">\n",
       "    only 4.2%\n",
       "    <span style=\"font-size: 0.8em; font-weight: bold; line-height: 1; border-radius: 0.35em; vertical-align: middle; margin-left: 0.5rem\">PERCENT</span>\n",
       "</mark>\n",
       " of the world's total, it holds \n",
       "<mark class=\"entity\" style=\"background: #e4e7d2; padding: 0.45em 0.6em; margin: 0 0.25em; line-height: 1; border-radius: 0.35em;\">\n",
       "    29.4%\n",
       "    <span style=\"font-size: 0.8em; font-weight: bold; line-height: 1; border-radius: 0.35em; vertical-align: middle; margin-left: 0.5rem\">PERCENT</span>\n",
       "</mark>\n",
       " of the total wealth in the world, the largest share held by any country. Making up \n",
       "<mark class=\"entity\" style=\"background: #e4e7d2; padding: 0.45em 0.6em; margin: 0 0.25em; line-height: 1; border-radius: 0.35em;\">\n",
       "    more than a third\n",
       "    <span style=\"font-size: 0.8em; font-weight: bold; line-height: 1; border-radius: 0.35em; vertical-align: middle; margin-left: 0.5rem\">CARDINAL</span>\n",
       "</mark>\n",
       " of global military spending, it is the foremost military power in the world; and it is a leading political, cultural, and scientific force \n",
       "<mark class=\"entity\" style=\"background: #7aecec; padding: 0.45em 0.6em; margin: 0 0.25em; line-height: 1; border-radius: 0.35em;\">\n",
       "    internationally.[23\n",
       "    <span style=\"font-size: 0.8em; font-weight: bold; line-height: 1; border-radius: 0.35em; vertical-align: middle; margin-left: 0.5rem\">ORG</span>\n",
       "</mark>\n",
       "]</div></span>"
      ],
      "text/plain": [
       "<IPython.core.display.HTML object>"
      ]
     },
     "metadata": {},
     "output_type": "display_data"
    }
   ],
   "source": [
    "displacy.render(doc, style=\"ent\")"
   ]
  },
  {
   "cell_type": "markdown",
   "metadata": {},
   "source": [
    "# 3. Word Vectors and spaCy"
   ]
  },
  {
   "cell_type": "code",
   "execution_count": 30,
   "metadata": {},
   "outputs": [
    {
     "name": "stdout",
     "output_type": "stream",
     "text": [
      "Collecting en-core-web-md==3.8.0\n",
      "  Downloading https://github.com/explosion/spacy-models/releases/download/en_core_web_md-3.8.0/en_core_web_md-3.8.0-py3-none-any.whl (33.5 MB)\n",
      "     ---------------------------------------- 0.0/33.5 MB ? eta -:--:--\n",
      "     ---------------------------------------- 0.0/33.5 MB ? eta -:--:--\n",
      "     --------------------------------------- 0.0/33.5 MB 162.5 kB/s eta 0:03:26\n",
      "     --------------------------------------- 0.0/33.5 MB 217.9 kB/s eta 0:02:34\n",
      "     --------------------------------------- 0.1/33.5 MB 416.7 kB/s eta 0:01:21\n",
      "     ---------------------------------------- 0.2/33.5 MB 1.1 MB/s eta 0:00:31\n",
      "     ---------------------------------------- 0.3/33.5 MB 1.2 MB/s eta 0:00:29\n",
      "     ---------------------------------------- 0.3/33.5 MB 1.1 MB/s eta 0:00:31\n",
      "     ---------------------------------------- 0.3/33.5 MB 1.1 MB/s eta 0:00:31\n",
      "      --------------------------------------- 0.6/33.5 MB 1.5 MB/s eta 0:00:23\n",
      "      --------------------------------------- 0.7/33.5 MB 1.6 MB/s eta 0:00:21\n",
      "      --------------------------------------- 0.7/33.5 MB 1.5 MB/s eta 0:00:23\n",
      "      --------------------------------------- 0.7/33.5 MB 1.5 MB/s eta 0:00:23\n",
      "      --------------------------------------- 0.8/33.5 MB 1.4 MB/s eta 0:00:24\n",
      "     - -------------------------------------- 0.9/33.5 MB 1.4 MB/s eta 0:00:25\n",
      "     - -------------------------------------- 1.1/33.5 MB 1.5 MB/s eta 0:00:21\n",
      "     - -------------------------------------- 1.2/33.5 MB 1.6 MB/s eta 0:00:21\n",
      "     - -------------------------------------- 1.3/33.5 MB 1.7 MB/s eta 0:00:20\n",
      "     - -------------------------------------- 1.4/33.5 MB 1.7 MB/s eta 0:00:19\n",
      "     - -------------------------------------- 1.6/33.5 MB 1.8 MB/s eta 0:00:19\n",
      "     -- ------------------------------------- 1.7/33.5 MB 1.8 MB/s eta 0:00:18\n",
      "     -- ------------------------------------- 1.8/33.5 MB 1.8 MB/s eta 0:00:18\n",
      "     -- ------------------------------------- 1.9/33.5 MB 1.9 MB/s eta 0:00:17\n",
      "     -- ------------------------------------- 2.0/33.5 MB 1.9 MB/s eta 0:00:17\n",
      "     -- ------------------------------------- 2.1/33.5 MB 1.9 MB/s eta 0:00:17\n",
      "     -- ------------------------------------- 2.3/33.5 MB 2.0 MB/s eta 0:00:16\n",
      "     -- ------------------------------------- 2.4/33.5 MB 2.0 MB/s eta 0:00:16\n",
      "     -- ------------------------------------- 2.5/33.5 MB 2.0 MB/s eta 0:00:16\n",
      "     --- ------------------------------------ 2.6/33.5 MB 2.0 MB/s eta 0:00:16\n",
      "     --- ------------------------------------ 2.7/33.5 MB 2.0 MB/s eta 0:00:16\n",
      "     --- ------------------------------------ 2.9/33.5 MB 2.1 MB/s eta 0:00:15\n",
      "     --- ------------------------------------ 3.0/33.5 MB 2.1 MB/s eta 0:00:15\n",
      "     --- ------------------------------------ 3.1/33.5 MB 2.1 MB/s eta 0:00:15\n",
      "     --- ------------------------------------ 3.2/33.5 MB 2.1 MB/s eta 0:00:15\n",
      "     ---- ----------------------------------- 3.4/33.5 MB 2.1 MB/s eta 0:00:15\n",
      "     ---- ----------------------------------- 3.5/33.5 MB 2.1 MB/s eta 0:00:15\n",
      "     ---- ----------------------------------- 3.6/33.5 MB 2.1 MB/s eta 0:00:14\n",
      "     ---- ----------------------------------- 3.7/33.5 MB 2.2 MB/s eta 0:00:14\n",
      "     ---- ----------------------------------- 3.8/33.5 MB 2.2 MB/s eta 0:00:14\n",
      "     ---- ----------------------------------- 4.0/33.5 MB 2.2 MB/s eta 0:00:14\n",
      "     ---- ----------------------------------- 4.1/33.5 MB 2.2 MB/s eta 0:00:14\n",
      "     ----- ---------------------------------- 4.2/33.5 MB 2.2 MB/s eta 0:00:14\n",
      "     ----- ---------------------------------- 4.3/33.5 MB 2.2 MB/s eta 0:00:14\n",
      "     ----- ---------------------------------- 4.4/33.5 MB 2.2 MB/s eta 0:00:14\n",
      "     ----- ---------------------------------- 4.6/33.5 MB 2.2 MB/s eta 0:00:14\n",
      "     ----- ---------------------------------- 4.7/33.5 MB 2.2 MB/s eta 0:00:13\n",
      "     ----- ---------------------------------- 4.8/33.5 MB 2.2 MB/s eta 0:00:14\n",
      "     ----- ---------------------------------- 4.9/33.5 MB 2.2 MB/s eta 0:00:13\n",
      "     ------ --------------------------------- 5.0/33.5 MB 2.2 MB/s eta 0:00:13\n",
      "     ------ --------------------------------- 5.1/33.5 MB 2.2 MB/s eta 0:00:13\n",
      "     ------ --------------------------------- 5.2/33.5 MB 2.2 MB/s eta 0:00:13\n",
      "     ------ --------------------------------- 5.2/33.5 MB 2.2 MB/s eta 0:00:13\n",
      "     ------ --------------------------------- 5.4/33.5 MB 2.2 MB/s eta 0:00:13\n",
      "     ------ --------------------------------- 5.5/33.5 MB 2.2 MB/s eta 0:00:13\n",
      "     ------ --------------------------------- 5.5/33.5 MB 2.2 MB/s eta 0:00:13\n",
      "     ------ --------------------------------- 5.6/33.5 MB 2.2 MB/s eta 0:00:13\n",
      "     ------ --------------------------------- 5.6/33.5 MB 2.2 MB/s eta 0:00:13\n",
      "     ------ --------------------------------- 5.7/33.5 MB 2.1 MB/s eta 0:00:13\n",
      "     ------ --------------------------------- 5.7/33.5 MB 2.1 MB/s eta 0:00:14\n",
      "     ------ --------------------------------- 5.8/33.5 MB 2.1 MB/s eta 0:00:14\n",
      "     ------ --------------------------------- 5.8/33.5 MB 2.1 MB/s eta 0:00:14\n",
      "     ------- -------------------------------- 5.9/33.5 MB 2.1 MB/s eta 0:00:14\n",
      "     ------- -------------------------------- 5.9/33.5 MB 2.1 MB/s eta 0:00:14\n",
      "     ------- -------------------------------- 5.9/33.5 MB 2.1 MB/s eta 0:00:14\n",
      "     ------- -------------------------------- 6.0/33.5 MB 2.0 MB/s eta 0:00:14\n",
      "     ------- -------------------------------- 6.0/33.5 MB 2.0 MB/s eta 0:00:14\n",
      "     ------- -------------------------------- 6.0/33.5 MB 2.0 MB/s eta 0:00:15\n",
      "     ------- -------------------------------- 6.1/33.5 MB 1.9 MB/s eta 0:00:15\n",
      "     ------- -------------------------------- 6.1/33.5 MB 1.9 MB/s eta 0:00:15\n",
      "     ------- -------------------------------- 6.1/33.5 MB 1.9 MB/s eta 0:00:15\n",
      "     ------- -------------------------------- 6.2/33.5 MB 1.9 MB/s eta 0:00:15\n",
      "     ------- -------------------------------- 6.2/33.5 MB 1.9 MB/s eta 0:00:15\n",
      "     ------- -------------------------------- 6.3/33.5 MB 1.9 MB/s eta 0:00:15\n",
      "     ------- -------------------------------- 6.3/33.5 MB 1.8 MB/s eta 0:00:15\n",
      "     ------- -------------------------------- 6.4/33.5 MB 1.8 MB/s eta 0:00:15\n",
      "     ------- -------------------------------- 6.4/33.5 MB 1.8 MB/s eta 0:00:15\n",
      "     ------- -------------------------------- 6.5/33.5 MB 1.8 MB/s eta 0:00:15\n",
      "     ------- -------------------------------- 6.6/33.5 MB 1.8 MB/s eta 0:00:15\n",
      "     ------- -------------------------------- 6.6/33.5 MB 1.8 MB/s eta 0:00:15\n",
      "     ------- -------------------------------- 6.7/33.5 MB 1.8 MB/s eta 0:00:15\n",
      "     -------- ------------------------------- 6.8/33.5 MB 1.8 MB/s eta 0:00:15\n",
      "     -------- ------------------------------- 6.8/33.5 MB 1.8 MB/s eta 0:00:15\n",
      "     -------- ------------------------------- 6.9/33.5 MB 1.8 MB/s eta 0:00:15\n",
      "     -------- ------------------------------- 7.0/33.5 MB 1.8 MB/s eta 0:00:15\n",
      "     -------- ------------------------------- 7.1/33.5 MB 1.8 MB/s eta 0:00:15\n",
      "     -------- ------------------------------- 7.2/33.5 MB 1.8 MB/s eta 0:00:15\n",
      "     -------- ------------------------------- 7.2/33.5 MB 1.8 MB/s eta 0:00:15\n",
      "     -------- ------------------------------- 7.4/33.5 MB 1.8 MB/s eta 0:00:15\n",
      "     -------- ------------------------------- 7.5/33.5 MB 1.8 MB/s eta 0:00:15\n",
      "     --------- ------------------------------ 7.5/33.5 MB 1.8 MB/s eta 0:00:15\n",
      "     --------- ------------------------------ 7.6/33.5 MB 1.8 MB/s eta 0:00:15\n",
      "     --------- ------------------------------ 7.8/33.5 MB 1.8 MB/s eta 0:00:15\n",
      "     --------- ------------------------------ 7.9/33.5 MB 1.8 MB/s eta 0:00:14\n",
      "     --------- ------------------------------ 8.0/33.5 MB 1.8 MB/s eta 0:00:14\n",
      "     --------- ------------------------------ 8.1/33.5 MB 1.8 MB/s eta 0:00:14\n",
      "     --------- ------------------------------ 8.2/33.5 MB 1.9 MB/s eta 0:00:14\n",
      "     --------- ------------------------------ 8.4/33.5 MB 1.9 MB/s eta 0:00:14\n",
      "     ---------- ----------------------------- 8.5/33.5 MB 1.9 MB/s eta 0:00:14\n",
      "     ---------- ----------------------------- 8.6/33.5 MB 1.9 MB/s eta 0:00:14\n",
      "     ---------- ----------------------------- 8.7/33.5 MB 1.9 MB/s eta 0:00:14\n",
      "     ---------- ----------------------------- 8.9/33.5 MB 1.9 MB/s eta 0:00:13\n",
      "     ---------- ----------------------------- 9.0/33.5 MB 1.9 MB/s eta 0:00:13\n",
      "     ---------- ----------------------------- 9.1/33.5 MB 1.9 MB/s eta 0:00:13\n",
      "     ----------- ---------------------------- 9.2/33.5 MB 1.9 MB/s eta 0:00:13\n",
      "     ----------- ---------------------------- 9.3/33.5 MB 1.9 MB/s eta 0:00:13\n",
      "     ----------- ---------------------------- 9.5/33.5 MB 1.9 MB/s eta 0:00:13\n",
      "     ----------- ---------------------------- 9.6/33.5 MB 1.9 MB/s eta 0:00:13\n",
      "     ----------- ---------------------------- 9.7/33.5 MB 1.9 MB/s eta 0:00:13\n",
      "     ----------- ---------------------------- 9.8/33.5 MB 1.9 MB/s eta 0:00:13\n",
      "     ----------- ---------------------------- 10.0/33.5 MB 2.0 MB/s eta 0:00:13\n",
      "     ------------ --------------------------- 10.1/33.5 MB 2.0 MB/s eta 0:00:12\n",
      "     ------------ --------------------------- 10.2/33.5 MB 2.0 MB/s eta 0:00:12\n",
      "     ------------ --------------------------- 10.3/33.5 MB 2.0 MB/s eta 0:00:12\n",
      "     ------------ --------------------------- 10.4/33.5 MB 2.0 MB/s eta 0:00:12\n",
      "     ------------ --------------------------- 10.5/33.5 MB 2.0 MB/s eta 0:00:12\n",
      "     ------------ --------------------------- 10.7/33.5 MB 2.0 MB/s eta 0:00:12\n",
      "     ------------ --------------------------- 10.8/33.5 MB 2.0 MB/s eta 0:00:12\n",
      "     ------------- -------------------------- 10.9/33.5 MB 2.0 MB/s eta 0:00:12\n",
      "     ------------- -------------------------- 10.9/33.5 MB 2.0 MB/s eta 0:00:12\n",
      "     ------------- -------------------------- 11.0/33.5 MB 2.1 MB/s eta 0:00:11\n",
      "     ------------- -------------------------- 11.1/33.5 MB 2.1 MB/s eta 0:00:11\n",
      "     ------------- -------------------------- 11.2/33.5 MB 2.0 MB/s eta 0:00:11\n",
      "     ------------- -------------------------- 11.2/33.5 MB 2.0 MB/s eta 0:00:11\n",
      "     ------------- -------------------------- 11.2/33.5 MB 2.0 MB/s eta 0:00:12\n",
      "     ------------- -------------------------- 11.3/33.5 MB 2.0 MB/s eta 0:00:12\n",
      "     ------------- -------------------------- 11.3/33.5 MB 2.0 MB/s eta 0:00:12\n",
      "     ------------- -------------------------- 11.4/33.5 MB 2.0 MB/s eta 0:00:12\n",
      "     ------------- -------------------------- 11.5/33.5 MB 2.0 MB/s eta 0:00:12\n",
      "     ------------- -------------------------- 11.5/33.5 MB 2.0 MB/s eta 0:00:12\n",
      "     ------------- -------------------------- 11.6/33.5 MB 2.0 MB/s eta 0:00:12\n",
      "     ------------- -------------------------- 11.7/33.5 MB 2.0 MB/s eta 0:00:12\n",
      "     -------------- ------------------------- 11.8/33.5 MB 1.9 MB/s eta 0:00:12\n",
      "     -------------- ------------------------- 11.8/33.5 MB 1.9 MB/s eta 0:00:12\n",
      "     -------------- ------------------------- 11.9/33.5 MB 1.9 MB/s eta 0:00:12\n",
      "     -------------- ------------------------- 12.0/33.5 MB 1.9 MB/s eta 0:00:12\n",
      "     -------------- ------------------------- 12.1/33.5 MB 1.9 MB/s eta 0:00:12\n",
      "     -------------- ------------------------- 12.2/33.5 MB 1.9 MB/s eta 0:00:11\n",
      "     -------------- ------------------------- 12.3/33.5 MB 1.9 MB/s eta 0:00:12\n",
      "     -------------- ------------------------- 12.4/33.5 MB 1.9 MB/s eta 0:00:11\n",
      "     -------------- ------------------------- 12.5/33.5 MB 1.9 MB/s eta 0:00:11\n",
      "     --------------- ------------------------ 12.6/33.5 MB 1.9 MB/s eta 0:00:11\n",
      "     --------------- ------------------------ 12.7/33.5 MB 1.9 MB/s eta 0:00:11\n",
      "     --------------- ------------------------ 12.8/33.5 MB 1.9 MB/s eta 0:00:11\n",
      "     --------------- ------------------------ 13.0/33.5 MB 1.9 MB/s eta 0:00:11\n",
      "     --------------- ------------------------ 13.1/33.5 MB 1.9 MB/s eta 0:00:11\n",
      "     --------------- ------------------------ 13.2/33.5 MB 1.9 MB/s eta 0:00:11\n",
      "     --------------- ------------------------ 13.3/33.5 MB 1.9 MB/s eta 0:00:11\n",
      "     ---------------- ----------------------- 13.4/33.5 MB 1.9 MB/s eta 0:00:11\n",
      "     ---------------- ----------------------- 13.6/33.5 MB 1.9 MB/s eta 0:00:11\n",
      "     ---------------- ----------------------- 13.7/33.5 MB 1.9 MB/s eta 0:00:11\n",
      "     ---------------- ----------------------- 13.8/33.5 MB 1.9 MB/s eta 0:00:11\n",
      "     ---------------- ----------------------- 14.0/33.5 MB 1.9 MB/s eta 0:00:11\n",
      "     ---------------- ----------------------- 14.1/33.5 MB 1.9 MB/s eta 0:00:11\n",
      "     ---------------- ----------------------- 14.2/33.5 MB 1.9 MB/s eta 0:00:11\n",
      "     ----------------- ---------------------- 14.3/33.5 MB 1.9 MB/s eta 0:00:10\n",
      "     ----------------- ---------------------- 14.4/33.5 MB 1.9 MB/s eta 0:00:10\n",
      "     ----------------- ---------------------- 14.6/33.5 MB 1.9 MB/s eta 0:00:10\n",
      "     ----------------- ---------------------- 14.7/33.5 MB 1.9 MB/s eta 0:00:10\n",
      "     ----------------- ---------------------- 14.8/33.5 MB 1.9 MB/s eta 0:00:10\n",
      "     ----------------- ---------------------- 14.9/33.5 MB 1.9 MB/s eta 0:00:10\n",
      "     ----------------- ---------------------- 15.1/33.5 MB 1.9 MB/s eta 0:00:10\n",
      "     ------------------ --------------------- 15.2/33.5 MB 1.9 MB/s eta 0:00:10\n",
      "     ------------------ --------------------- 15.3/33.5 MB 1.9 MB/s eta 0:00:10\n",
      "     ------------------ --------------------- 15.4/33.5 MB 1.9 MB/s eta 0:00:10\n",
      "     ------------------ --------------------- 15.5/33.5 MB 1.9 MB/s eta 0:00:10\n",
      "     ------------------ --------------------- 15.7/33.5 MB 1.9 MB/s eta 0:00:10\n",
      "     ------------------ --------------------- 15.7/33.5 MB 2.0 MB/s eta 0:00:10\n",
      "     ------------------ --------------------- 15.8/33.5 MB 1.9 MB/s eta 0:00:10\n",
      "     ------------------ --------------------- 15.8/33.5 MB 2.0 MB/s eta 0:00:10\n",
      "     ------------------ --------------------- 15.8/33.5 MB 1.9 MB/s eta 0:00:10\n",
      "     ------------------ --------------------- 15.9/33.5 MB 1.9 MB/s eta 0:00:10\n",
      "     ------------------- -------------------- 15.9/33.5 MB 1.9 MB/s eta 0:00:10\n",
      "     ------------------- -------------------- 15.9/33.5 MB 1.9 MB/s eta 0:00:10\n",
      "     ------------------- -------------------- 16.0/33.5 MB 1.9 MB/s eta 0:00:10\n",
      "     ------------------- -------------------- 16.0/33.5 MB 1.9 MB/s eta 0:00:10\n",
      "     ------------------- -------------------- 16.1/33.5 MB 1.9 MB/s eta 0:00:10\n",
      "     ------------------- -------------------- 16.1/33.5 MB 1.9 MB/s eta 0:00:10\n",
      "     ------------------- -------------------- 16.1/33.5 MB 1.9 MB/s eta 0:00:10\n",
      "     ------------------- -------------------- 16.2/33.5 MB 1.9 MB/s eta 0:00:10\n",
      "     ------------------- -------------------- 16.3/33.5 MB 1.9 MB/s eta 0:00:09\n",
      "     ------------------- -------------------- 16.3/33.5 MB 1.9 MB/s eta 0:00:09\n",
      "     ------------------- -------------------- 16.4/33.5 MB 2.0 MB/s eta 0:00:09\n",
      "     ------------------- -------------------- 16.4/33.5 MB 2.0 MB/s eta 0:00:09\n",
      "     ------------------- -------------------- 16.5/33.5 MB 2.0 MB/s eta 0:00:09\n",
      "     ------------------- -------------------- 16.6/33.5 MB 2.0 MB/s eta 0:00:09\n",
      "     ------------------- -------------------- 16.7/33.5 MB 2.0 MB/s eta 0:00:09\n",
      "     ------------------- -------------------- 16.7/33.5 MB 2.0 MB/s eta 0:00:09\n",
      "     -------------------- ------------------- 16.8/33.5 MB 2.0 MB/s eta 0:00:09\n",
      "     -------------------- ------------------- 16.9/33.5 MB 2.0 MB/s eta 0:00:09\n",
      "     -------------------- ------------------- 17.0/33.5 MB 2.0 MB/s eta 0:00:09\n",
      "     -------------------- ------------------- 17.0/33.5 MB 2.0 MB/s eta 0:00:09\n",
      "     -------------------- ------------------- 17.2/33.5 MB 2.0 MB/s eta 0:00:09\n",
      "     -------------------- ------------------- 17.2/33.5 MB 2.0 MB/s eta 0:00:09\n",
      "     -------------------- ------------------- 17.3/33.5 MB 2.0 MB/s eta 0:00:09\n",
      "     -------------------- ------------------- 17.4/33.5 MB 2.0 MB/s eta 0:00:09\n",
      "     -------------------- ------------------- 17.5/33.5 MB 2.0 MB/s eta 0:00:08\n",
      "     --------------------- ------------------ 17.6/33.5 MB 2.0 MB/s eta 0:00:08\n",
      "     --------------------- ------------------ 17.8/33.5 MB 2.0 MB/s eta 0:00:08\n",
      "     --------------------- ------------------ 17.9/33.5 MB 2.0 MB/s eta 0:00:08\n",
      "     --------------------- ------------------ 18.0/33.5 MB 2.0 MB/s eta 0:00:08\n",
      "     --------------------- ------------------ 18.1/33.5 MB 2.0 MB/s eta 0:00:08\n",
      "     --------------------- ------------------ 18.2/33.5 MB 2.0 MB/s eta 0:00:08\n",
      "     --------------------- ------------------ 18.3/33.5 MB 2.0 MB/s eta 0:00:08\n",
      "     --------------------- ------------------ 18.4/33.5 MB 2.0 MB/s eta 0:00:08\n",
      "     --------------------- ------------------ 18.4/33.5 MB 2.0 MB/s eta 0:00:08\n",
      "     ---------------------- ----------------- 18.5/33.5 MB 2.0 MB/s eta 0:00:08\n",
      "     ---------------------- ----------------- 18.6/33.5 MB 2.0 MB/s eta 0:00:08\n",
      "     ---------------------- ----------------- 18.6/33.5 MB 2.0 MB/s eta 0:00:08\n",
      "     ---------------------- ----------------- 18.7/33.5 MB 2.0 MB/s eta 0:00:08\n",
      "     ---------------------- ----------------- 18.7/33.5 MB 1.9 MB/s eta 0:00:08\n",
      "     ---------------------- ----------------- 18.8/33.5 MB 1.9 MB/s eta 0:00:08\n",
      "     ---------------------- ----------------- 18.9/33.5 MB 1.9 MB/s eta 0:00:08\n",
      "     ---------------------- ----------------- 19.0/33.5 MB 1.9 MB/s eta 0:00:08\n",
      "     ---------------------- ----------------- 19.0/33.5 MB 1.9 MB/s eta 0:00:08\n",
      "     ---------------------- ----------------- 19.1/33.5 MB 1.9 MB/s eta 0:00:08\n",
      "     ---------------------- ----------------- 19.2/33.5 MB 1.9 MB/s eta 0:00:08\n",
      "     ---------------------- ----------------- 19.2/33.5 MB 1.9 MB/s eta 0:00:08\n",
      "     ----------------------- ---------------- 19.3/33.5 MB 1.9 MB/s eta 0:00:08\n",
      "     ----------------------- ---------------- 19.4/33.5 MB 1.9 MB/s eta 0:00:08\n",
      "     ----------------------- ---------------- 19.5/33.5 MB 1.9 MB/s eta 0:00:08\n",
      "     ----------------------- ---------------- 19.6/33.5 MB 1.9 MB/s eta 0:00:08\n",
      "     ----------------------- ---------------- 19.7/33.5 MB 1.9 MB/s eta 0:00:08\n",
      "     ----------------------- ---------------- 19.8/33.5 MB 1.9 MB/s eta 0:00:08\n",
      "     ----------------------- ---------------- 19.9/33.5 MB 1.9 MB/s eta 0:00:08\n",
      "     ----------------------- ---------------- 20.0/33.5 MB 1.9 MB/s eta 0:00:08\n",
      "     ----------------------- ---------------- 20.1/33.5 MB 1.9 MB/s eta 0:00:08\n",
      "     ------------------------ --------------- 20.2/33.5 MB 1.9 MB/s eta 0:00:08\n",
      "     ------------------------ --------------- 20.3/33.5 MB 1.9 MB/s eta 0:00:08\n",
      "     ------------------------ --------------- 20.4/33.5 MB 1.9 MB/s eta 0:00:07\n",
      "     ------------------------ --------------- 20.6/33.5 MB 1.9 MB/s eta 0:00:07\n",
      "     ------------------------ --------------- 20.7/33.5 MB 1.9 MB/s eta 0:00:07\n",
      "     ------------------------ --------------- 20.8/33.5 MB 1.9 MB/s eta 0:00:07\n",
      "     ------------------------- -------------- 21.0/33.5 MB 1.9 MB/s eta 0:00:07\n",
      "     ------------------------- -------------- 21.1/33.5 MB 1.9 MB/s eta 0:00:07\n",
      "     ------------------------- -------------- 21.2/33.5 MB 1.9 MB/s eta 0:00:07\n",
      "     ------------------------- -------------- 21.3/33.5 MB 1.9 MB/s eta 0:00:07\n",
      "     ------------------------- -------------- 21.4/33.5 MB 1.9 MB/s eta 0:00:07\n",
      "     ------------------------- -------------- 21.6/33.5 MB 1.9 MB/s eta 0:00:07\n",
      "     ------------------------- -------------- 21.7/33.5 MB 2.0 MB/s eta 0:00:07\n",
      "     -------------------------- ------------- 21.8/33.5 MB 2.0 MB/s eta 0:00:06\n",
      "     -------------------------- ------------- 21.9/33.5 MB 2.0 MB/s eta 0:00:06\n",
      "     -------------------------- ------------- 22.0/33.5 MB 2.0 MB/s eta 0:00:06\n",
      "     -------------------------- ------------- 22.2/33.5 MB 2.0 MB/s eta 0:00:06\n",
      "     -------------------------- ------------- 22.3/33.5 MB 2.0 MB/s eta 0:00:06\n",
      "     -------------------------- ------------- 22.4/33.5 MB 2.0 MB/s eta 0:00:06\n",
      "     -------------------------- ------------- 22.5/33.5 MB 2.0 MB/s eta 0:00:06\n",
      "     --------------------------- ------------ 22.6/33.5 MB 2.0 MB/s eta 0:00:06\n",
      "     --------------------------- ------------ 22.8/33.5 MB 2.0 MB/s eta 0:00:06\n",
      "     --------------------------- ------------ 22.9/33.5 MB 2.0 MB/s eta 0:00:06\n",
      "     --------------------------- ------------ 23.0/33.5 MB 2.0 MB/s eta 0:00:06\n",
      "     --------------------------- ------------ 23.1/33.5 MB 2.0 MB/s eta 0:00:06\n",
      "     --------------------------- ------------ 23.2/33.5 MB 2.0 MB/s eta 0:00:06\n",
      "     --------------------------- ------------ 23.4/33.5 MB 2.0 MB/s eta 0:00:05\n",
      "     ---------------------------- ----------- 23.5/33.5 MB 2.0 MB/s eta 0:00:05\n",
      "     ---------------------------- ----------- 23.6/33.5 MB 2.0 MB/s eta 0:00:05\n",
      "     ---------------------------- ----------- 23.7/33.5 MB 2.0 MB/s eta 0:00:05\n",
      "     ---------------------------- ----------- 23.8/33.5 MB 2.0 MB/s eta 0:00:05\n",
      "     ---------------------------- ----------- 24.0/33.5 MB 2.0 MB/s eta 0:00:05\n",
      "     ---------------------------- ----------- 24.1/33.5 MB 2.0 MB/s eta 0:00:05\n",
      "     ---------------------------- ----------- 24.2/33.5 MB 2.0 MB/s eta 0:00:05\n",
      "     ----------------------------- ---------- 24.3/33.5 MB 2.0 MB/s eta 0:00:05\n",
      "     ----------------------------- ---------- 24.5/33.5 MB 2.0 MB/s eta 0:00:05\n",
      "     ----------------------------- ---------- 24.6/33.5 MB 2.0 MB/s eta 0:00:05\n",
      "     ----------------------------- ---------- 24.7/33.5 MB 2.0 MB/s eta 0:00:05\n",
      "     ----------------------------- ---------- 24.8/33.5 MB 2.0 MB/s eta 0:00:05\n",
      "     ----------------------------- ---------- 24.9/33.5 MB 2.0 MB/s eta 0:00:05\n",
      "     ----------------------------- ---------- 25.0/33.5 MB 2.0 MB/s eta 0:00:05\n",
      "     ------------------------------ --------- 25.2/33.5 MB 2.0 MB/s eta 0:00:05\n",
      "     ------------------------------ --------- 25.3/33.5 MB 2.0 MB/s eta 0:00:05\n",
      "     ------------------------------ --------- 25.4/33.5 MB 2.0 MB/s eta 0:00:05\n",
      "     ------------------------------ --------- 25.5/33.5 MB 2.0 MB/s eta 0:00:04\n",
      "     ------------------------------ --------- 25.6/33.5 MB 2.0 MB/s eta 0:00:04\n",
      "     ------------------------------ --------- 25.7/33.5 MB 2.0 MB/s eta 0:00:04\n",
      "     ------------------------------ --------- 25.8/33.5 MB 2.0 MB/s eta 0:00:04\n",
      "     ------------------------------ --------- 25.8/33.5 MB 2.0 MB/s eta 0:00:04\n",
      "     ------------------------------ --------- 25.8/33.5 MB 2.0 MB/s eta 0:00:04\n",
      "     ------------------------------ --------- 25.9/33.5 MB 2.0 MB/s eta 0:00:04\n",
      "     ------------------------------- -------- 25.9/33.5 MB 2.0 MB/s eta 0:00:04\n",
      "     ------------------------------- -------- 26.0/33.5 MB 2.0 MB/s eta 0:00:04\n",
      "     ------------------------------- -------- 26.0/33.5 MB 2.0 MB/s eta 0:00:04\n",
      "     ------------------------------- -------- 26.1/33.5 MB 2.0 MB/s eta 0:00:04\n",
      "     ------------------------------- -------- 26.1/33.5 MB 2.0 MB/s eta 0:00:04\n",
      "     ------------------------------- -------- 26.2/33.5 MB 2.0 MB/s eta 0:00:04\n",
      "     ------------------------------- -------- 26.3/33.5 MB 2.0 MB/s eta 0:00:04\n",
      "     ------------------------------- -------- 26.4/33.5 MB 2.0 MB/s eta 0:00:04\n",
      "     ------------------------------- -------- 26.5/33.5 MB 2.1 MB/s eta 0:00:04\n",
      "     ------------------------------- -------- 26.5/33.5 MB 2.1 MB/s eta 0:00:04\n",
      "     ------------------------------- -------- 26.6/33.5 MB 2.1 MB/s eta 0:00:04\n",
      "     ------------------------------- -------- 26.7/33.5 MB 2.1 MB/s eta 0:00:04\n",
      "     -------------------------------- ------- 26.8/33.5 MB 2.1 MB/s eta 0:00:04\n",
      "     -------------------------------- ------- 27.0/33.5 MB 2.1 MB/s eta 0:00:04\n",
      "     -------------------------------- ------- 27.1/33.5 MB 2.1 MB/s eta 0:00:04\n",
      "     -------------------------------- ------- 27.2/33.5 MB 2.1 MB/s eta 0:00:03\n",
      "     -------------------------------- ------- 27.3/33.5 MB 2.1 MB/s eta 0:00:03\n",
      "     -------------------------------- ------- 27.4/33.5 MB 2.1 MB/s eta 0:00:03\n",
      "     -------------------------------- ------- 27.5/33.5 MB 2.1 MB/s eta 0:00:03\n",
      "     --------------------------------- ------ 27.6/33.5 MB 2.1 MB/s eta 0:00:03\n",
      "     --------------------------------- ------ 27.8/33.5 MB 2.1 MB/s eta 0:00:03\n",
      "     --------------------------------- ------ 27.9/33.5 MB 2.1 MB/s eta 0:00:03\n",
      "     --------------------------------- ------ 28.0/33.5 MB 2.1 MB/s eta 0:00:03\n",
      "     --------------------------------- ------ 28.2/33.5 MB 2.2 MB/s eta 0:00:03\n",
      "     --------------------------------- ------ 28.3/33.5 MB 2.2 MB/s eta 0:00:03\n",
      "     --------------------------------- ------ 28.4/33.5 MB 2.2 MB/s eta 0:00:03\n",
      "     ---------------------------------- ----- 28.5/33.5 MB 2.2 MB/s eta 0:00:03\n",
      "     ---------------------------------- ----- 28.7/33.5 MB 2.2 MB/s eta 0:00:03\n",
      "     ---------------------------------- ----- 28.8/33.5 MB 2.2 MB/s eta 0:00:03\n",
      "     ---------------------------------- ----- 28.8/33.5 MB 2.2 MB/s eta 0:00:03\n",
      "     ---------------------------------- ----- 28.9/33.5 MB 2.2 MB/s eta 0:00:03\n",
      "     ---------------------------------- ----- 29.0/33.5 MB 2.2 MB/s eta 0:00:03\n",
      "     ---------------------------------- ----- 29.1/33.5 MB 2.2 MB/s eta 0:00:02\n",
      "     ---------------------------------- ----- 29.2/33.5 MB 2.2 MB/s eta 0:00:02\n",
      "     ---------------------------------- ----- 29.3/33.5 MB 2.2 MB/s eta 0:00:02\n",
      "     ----------------------------------- ---- 29.3/33.5 MB 2.2 MB/s eta 0:00:02\n",
      "     ----------------------------------- ---- 29.3/33.5 MB 2.2 MB/s eta 0:00:02\n",
      "     ----------------------------------- ---- 29.4/33.5 MB 2.2 MB/s eta 0:00:02\n",
      "     ----------------------------------- ---- 29.4/33.5 MB 2.2 MB/s eta 0:00:02\n",
      "     ----------------------------------- ---- 29.5/33.5 MB 2.2 MB/s eta 0:00:02\n",
      "     ----------------------------------- ---- 29.5/33.5 MB 2.2 MB/s eta 0:00:02\n",
      "     ----------------------------------- ---- 29.6/33.5 MB 2.2 MB/s eta 0:00:02\n",
      "     ----------------------------------- ---- 29.7/33.5 MB 2.2 MB/s eta 0:00:02\n",
      "     ----------------------------------- ---- 29.7/33.5 MB 2.2 MB/s eta 0:00:02\n",
      "     ----------------------------------- ---- 29.8/33.5 MB 2.2 MB/s eta 0:00:02\n",
      "     ----------------------------------- ---- 29.9/33.5 MB 2.1 MB/s eta 0:00:02\n",
      "     ----------------------------------- ---- 29.9/33.5 MB 2.1 MB/s eta 0:00:02\n",
      "     ----------------------------------- ---- 30.0/33.5 MB 2.1 MB/s eta 0:00:02\n",
      "     ----------------------------------- ---- 30.1/33.5 MB 2.1 MB/s eta 0:00:02\n",
      "     ------------------------------------ --- 30.2/33.5 MB 2.1 MB/s eta 0:00:02\n",
      "     ------------------------------------ --- 30.3/33.5 MB 2.1 MB/s eta 0:00:02\n",
      "     ------------------------------------ --- 30.3/33.5 MB 2.1 MB/s eta 0:00:02\n",
      "     ------------------------------------ --- 30.4/33.5 MB 2.1 MB/s eta 0:00:02\n",
      "     ------------------------------------ --- 30.6/33.5 MB 2.1 MB/s eta 0:00:02\n",
      "     ------------------------------------ --- 30.6/33.5 MB 2.1 MB/s eta 0:00:02\n",
      "     ------------------------------------ --- 30.8/33.5 MB 2.1 MB/s eta 0:00:02\n",
      "     ------------------------------------ --- 30.9/33.5 MB 2.1 MB/s eta 0:00:02\n",
      "     ------------------------------------ --- 31.0/33.5 MB 2.1 MB/s eta 0:00:02\n",
      "     ------------------------------------- -- 31.1/33.5 MB 2.1 MB/s eta 0:00:02\n",
      "     ------------------------------------- -- 31.2/33.5 MB 2.1 MB/s eta 0:00:02\n",
      "     ------------------------------------- -- 31.3/33.5 MB 2.1 MB/s eta 0:00:02\n",
      "     ------------------------------------- -- 31.4/33.5 MB 2.1 MB/s eta 0:00:01\n",
      "     ------------------------------------- -- 31.6/33.5 MB 2.1 MB/s eta 0:00:01\n",
      "     ------------------------------------- -- 31.7/33.5 MB 2.1 MB/s eta 0:00:01\n",
      "     -------------------------------------- - 31.8/33.5 MB 2.1 MB/s eta 0:00:01\n",
      "     -------------------------------------- - 32.0/33.5 MB 2.1 MB/s eta 0:00:01\n",
      "     -------------------------------------- - 32.1/33.5 MB 2.1 MB/s eta 0:00:01\n",
      "     -------------------------------------- - 32.2/33.5 MB 2.1 MB/s eta 0:00:01\n",
      "     -------------------------------------- - 32.3/33.5 MB 2.1 MB/s eta 0:00:01\n",
      "     -------------------------------------- - 32.5/33.5 MB 2.1 MB/s eta 0:00:01\n",
      "     -------------------------------------- - 32.6/33.5 MB 2.1 MB/s eta 0:00:01\n",
      "     ---------------------------------------  32.7/33.5 MB 2.1 MB/s eta 0:00:01\n",
      "     ---------------------------------------  32.8/33.5 MB 2.1 MB/s eta 0:00:01\n",
      "     ---------------------------------------  32.9/33.5 MB 2.1 MB/s eta 0:00:01\n",
      "     ---------------------------------------  33.1/33.5 MB 2.1 MB/s eta 0:00:01\n",
      "     ---------------------------------------  33.2/33.5 MB 2.1 MB/s eta 0:00:01\n",
      "     ---------------------------------------  33.3/33.5 MB 2.1 MB/s eta 0:00:01\n",
      "     ---------------------------------------  33.4/33.5 MB 2.1 MB/s eta 0:00:01\n",
      "     ---------------------------------------  33.5/33.5 MB 2.1 MB/s eta 0:00:01\n",
      "     ---------------------------------------- 33.5/33.5 MB 2.1 MB/s eta 0:00:00\n",
      "\u001b[38;5;2m✔ Download and installation successful\u001b[0m\n",
      "You can now load the package via spacy.load('en_core_web_md')\n"
     ]
    },
    {
     "name": "stderr",
     "output_type": "stream",
     "text": [
      "\n",
      "[notice] A new release of pip is available: 24.0 -> 24.3.1\n",
      "[notice] To update, run: python.exe -m pip install --upgrade pip\n"
     ]
    }
   ],
   "source": [
    "import spacy\n",
    "!python -m spacy download en_core_web_md"
   ]
  },
  {
   "cell_type": "code",
   "execution_count": 31,
   "metadata": {},
   "outputs": [],
   "source": [
    "nlp = spacy.load(\"en_core_web_md\")\n",
    "with open (\"data/wiki_us.txt\", \"r\") as f:\n",
    "    text = f.read()\n",
    "doc = nlp(text)\n",
    "sentence1 = list(doc.sents)[0]"
   ]
  },
  {
   "cell_type": "markdown",
   "metadata": {},
   "source": [
    "## 3.1 Word Vectors"
   ]
  },
  {
   "cell_type": "markdown",
   "metadata": {},
   "source": [
    "word vectors is the the representation words as matrices so the computer can process them quickly."
   ]
  },
  {
   "cell_type": "markdown",
   "metadata": {},
   "source": [
    "**Bag of words** : Tom loves to eat chocolate. == 1, 2, 3, 4, 5 . The limitation of this method is the converting of words without giving a meaning. that's why we'll use the word vectors which give the dict a multidimensional meaning."
   ]
  },
  {
   "cell_type": "code",
   "execution_count": 34,
   "metadata": {},
   "outputs": [
    {
     "name": "stdout",
     "output_type": "stream",
     "text": [
      "Collecting PyDictionary"
     ]
    },
    {
     "name": "stderr",
     "output_type": "stream",
     "text": [
      "\n",
      "[notice] A new release of pip is available: 24.0 -> 24.3.1\n",
      "[notice] To update, run: python.exe -m pip install --upgrade pip\n"
     ]
    },
    {
     "name": "stdout",
     "output_type": "stream",
     "text": [
      "\n",
      "  Downloading PyDictionary-2.0.1-py3-none-any.whl.metadata (4.0 kB)\n",
      "Collecting bs4 (from PyDictionary)\n",
      "  Using cached bs4-0.0.2-py2.py3-none-any.whl.metadata (411 bytes)\n",
      "Requirement already satisfied: click in c:\\users\\dexte\\onedrive\\documents\\ismail\\courses\\intro to nlp\\labs\\nlp-101\\nlp-env\\lib\\site-packages (from PyDictionary) (8.1.7)\n",
      "Collecting goslate (from PyDictionary)\n",
      "  Downloading goslate-1.5.4.tar.gz (14 kB)\n",
      "  Installing build dependencies: started\n",
      "  Installing build dependencies: finished with status 'done'\n",
      "  Getting requirements to build wheel: started\n",
      "  Getting requirements to build wheel: finished with status 'done'\n",
      "  Preparing metadata (pyproject.toml): started\n",
      "  Preparing metadata (pyproject.toml): finished with status 'done'\n",
      "Requirement already satisfied: requests in c:\\users\\dexte\\onedrive\\documents\\ismail\\courses\\intro to nlp\\labs\\nlp-101\\nlp-env\\lib\\site-packages (from PyDictionary) (2.32.3)\n",
      "Collecting beautifulsoup4 (from bs4->PyDictionary)\n",
      "  Using cached beautifulsoup4-4.12.3-py3-none-any.whl.metadata (3.8 kB)\n",
      "Requirement already satisfied: colorama in c:\\users\\dexte\\onedrive\\documents\\ismail\\courses\\intro to nlp\\labs\\nlp-101\\nlp-env\\lib\\site-packages (from click->PyDictionary) (0.4.6)\n",
      "Collecting futures (from goslate->PyDictionary)\n",
      "  Downloading futures-3.0.5.tar.gz (25 kB)\n",
      "  Installing build dependencies: started\n",
      "  Installing build dependencies: finished with status 'done'\n",
      "  Getting requirements to build wheel: started\n",
      "  Getting requirements to build wheel: finished with status 'done'\n",
      "  Preparing metadata (pyproject.toml): started\n",
      "  Preparing metadata (pyproject.toml): finished with status 'done'\n",
      "Requirement already satisfied: charset-normalizer<4,>=2 in c:\\users\\dexte\\onedrive\\documents\\ismail\\courses\\intro to nlp\\labs\\nlp-101\\nlp-env\\lib\\site-packages (from requests->PyDictionary) (3.4.0)\n",
      "Requirement already satisfied: idna<4,>=2.5 in c:\\users\\dexte\\onedrive\\documents\\ismail\\courses\\intro to nlp\\labs\\nlp-101\\nlp-env\\lib\\site-packages (from requests->PyDictionary) (3.10)\n",
      "Requirement already satisfied: urllib3<3,>=1.21.1 in c:\\users\\dexte\\onedrive\\documents\\ismail\\courses\\intro to nlp\\labs\\nlp-101\\nlp-env\\lib\\site-packages (from requests->PyDictionary) (2.2.3)\n",
      "Requirement already satisfied: certifi>=2017.4.17 in c:\\users\\dexte\\onedrive\\documents\\ismail\\courses\\intro to nlp\\labs\\nlp-101\\nlp-env\\lib\\site-packages (from requests->PyDictionary) (2024.8.30)\n",
      "Collecting soupsieve>1.2 (from beautifulsoup4->bs4->PyDictionary)\n",
      "  Using cached soupsieve-2.6-py3-none-any.whl.metadata (4.6 kB)\n",
      "Downloading PyDictionary-2.0.1-py3-none-any.whl (6.1 kB)\n",
      "Using cached bs4-0.0.2-py2.py3-none-any.whl (1.2 kB)\n",
      "Using cached beautifulsoup4-4.12.3-py3-none-any.whl (147 kB)\n",
      "Using cached soupsieve-2.6-py3-none-any.whl (36 kB)\n",
      "Building wheels for collected packages: goslate, futures\n",
      "  Building wheel for goslate (pyproject.toml): started\n",
      "  Building wheel for goslate (pyproject.toml): finished with status 'done'\n",
      "  Created wheel for goslate: filename=goslate-1.5.4-py3-none-any.whl size=11627 sha256=72be7ebb56299897f63e96911e3a15fff3de1dfdc43f0dcc388543757e8864ac\n",
      "  Stored in directory: c:\\users\\dexte\\appdata\\local\\pip\\cache\\wheels\\b6\\48\\7a\\e7458e7a110a5525687dd17a52d3e42c157a8d22a2c4d5e840\n",
      "  Building wheel for futures (pyproject.toml): started\n",
      "  Building wheel for futures (pyproject.toml): finished with status 'done'\n",
      "  Created wheel for futures: filename=futures-3.0.5-py3-none-any.whl size=13842 sha256=c25d5b7ba49d4cecfe1e07385865f6a335a5f9b898e940306042b25e730a2e36\n",
      "  Stored in directory: c:\\users\\dexte\\appdata\\local\\pip\\cache\\wheels\\66\\cb\\37\\51fe32ecb9068869196ce81111bdfe82e6ecb53c889362f81b\n",
      "Successfully built goslate futures\n",
      "Installing collected packages: futures, soupsieve, goslate, beautifulsoup4, bs4, PyDictionary\n",
      "Successfully installed PyDictionary-2.0.1 beautifulsoup4-4.12.3 bs4-0.0.2 futures-3.0.5 goslate-1.5.4 soupsieve-2.6\n"
     ]
    }
   ],
   "source": [
    "!pip install PyDictionary"
   ]
  },
  {
   "cell_type": "markdown",
   "metadata": {},
   "source": [
    "##3.1.1 Use of Synonyms"
   ]
  },
  {
   "cell_type": "code",
   "execution_count": 35,
   "metadata": {},
   "outputs": [
    {
     "name": "stdout",
     "output_type": "stream",
     "text": [
      "Tom has no Synonyms in the API\n"
     ]
    },
    {
     "ename": "TypeError",
     "evalue": "'NoneType' object is not subscriptable",
     "output_type": "error",
     "traceback": [
      "\u001b[1;31m---------------------------------------------------------------------------\u001b[0m",
      "\u001b[1;31mTypeError\u001b[0m                                 Traceback (most recent call last)",
      "Cell \u001b[1;32mIn[35], line 9\u001b[0m\n\u001b[0;32m      7\u001b[0m \u001b[38;5;28;01mfor\u001b[39;00m word \u001b[38;5;129;01min\u001b[39;00m words:\n\u001b[0;32m      8\u001b[0m     syns \u001b[38;5;241m=\u001b[39m dictionary\u001b[38;5;241m.\u001b[39msynonym(word)\n\u001b[1;32m----> 9\u001b[0m     \u001b[38;5;28mprint\u001b[39m (\u001b[38;5;124mf\u001b[39m\u001b[38;5;124m\"\u001b[39m\u001b[38;5;132;01m{\u001b[39;00mword\u001b[38;5;132;01m}\u001b[39;00m\u001b[38;5;124m: \u001b[39m\u001b[38;5;132;01m{\u001b[39;00m\u001b[43msyns\u001b[49m\u001b[43m[\u001b[49m\u001b[38;5;241;43m0\u001b[39;49m\u001b[43m:\u001b[49m\u001b[38;5;241;43m5\u001b[39;49m\u001b[43m]\u001b[49m\u001b[38;5;132;01m}\u001b[39;00m\u001b[38;5;130;01m\\n\u001b[39;00m\u001b[38;5;124m\"\u001b[39m)\n",
      "\u001b[1;31mTypeError\u001b[0m: 'NoneType' object is not subscriptable"
     ]
    }
   ],
   "source": [
    "from PyDictionary import PyDictionary\n",
    "\n",
    "dictionary=PyDictionary()\n",
    "text = \"Tom loves to eat chocolate\"\n",
    "\n",
    "words = text.split()\n",
    "for word in words:\n",
    "    syns = dictionary.synonym(word)\n",
    "    print (f\"{word}: {syns[0:5]}\\n\")"
   ]
  },
  {
   "cell_type": "code",
   "execution_count": 39,
   "metadata": {},
   "outputs": [
    {
     "name": "stdout",
     "output_type": "stream",
     "text": [
      "like has no Synonyms in the API\n"
     ]
    },
    {
     "ename": "TypeError",
     "evalue": "'NoneType' object is not subscriptable",
     "output_type": "error",
     "traceback": [
      "\u001b[1;31m---------------------------------------------------------------------------\u001b[0m",
      "\u001b[1;31mTypeError\u001b[0m                                 Traceback (most recent call last)",
      "Cell \u001b[1;32mIn[39], line 8\u001b[0m\n\u001b[0;32m      6\u001b[0m \u001b[38;5;28;01mfor\u001b[39;00m word \u001b[38;5;129;01min\u001b[39;00m words:\n\u001b[0;32m      7\u001b[0m     syns \u001b[38;5;241m=\u001b[39m dictionary\u001b[38;5;241m.\u001b[39msynonym(word)\n\u001b[1;32m----> 8\u001b[0m     \u001b[38;5;28mprint\u001b[39m (\u001b[38;5;124mf\u001b[39m\u001b[38;5;124m\"\u001b[39m\u001b[38;5;132;01m{\u001b[39;00mword\u001b[38;5;132;01m}\u001b[39;00m\u001b[38;5;124m: \u001b[39m\u001b[38;5;132;01m{\u001b[39;00m\u001b[43msyns\u001b[49m\u001b[43m[\u001b[49m\u001b[38;5;241;43m0\u001b[39;49m\u001b[43m:\u001b[49m\u001b[38;5;241;43m5\u001b[39;49m\u001b[43m]\u001b[49m\u001b[38;5;132;01m}\u001b[39;00m\u001b[38;5;130;01m\\n\u001b[39;00m\u001b[38;5;124m\"\u001b[39m)\n",
      "\u001b[1;31mTypeError\u001b[0m: 'NoneType' object is not subscriptable"
     ]
    }
   ],
   "source": [
    "from PyDictionary import PyDictionary\n",
    "\n",
    "dictionary=PyDictionary()\n",
    "\n",
    "words  = [\"like\", \"love\"]\n",
    "for word in words:\n",
    "    syns = dictionary.synonym(word)\n",
    "    print (f\"{word}: {syns[0:5]}\\n\")"
   ]
  },
  {
   "cell_type": "markdown",
   "metadata": {},
   "source": [
    "--> Limitations : cimputer can't process words, not always accurate ..."
   ]
  },
  {
   "cell_type": "markdown",
   "metadata": {},
   "source": [
    "### 3.1.2. What do Word Vectors Look Like?\n"
   ]
  },
  {
   "cell_type": "code",
   "execution_count": 40,
   "metadata": {},
   "outputs": [
    {
     "data": {
      "text/plain": [
       "array([-6.5276e-01,  2.3873e-01, -2.3325e-01,  1.8608e-01,  3.7674e-01,\n",
       "       -5.4116e-02, -1.9189e-01,  2.2731e-01, -9.2528e-02,  1.8388e+00,\n",
       "       -1.8715e-01, -2.2237e-01,  3.1873e-01,  1.1472e-01,  3.8304e-01,\n",
       "        2.0092e-01, -2.7932e-01,  2.3462e+00, -3.9846e-01, -1.9525e-01,\n",
       "       -2.5649e-01,  2.5508e-01,  9.4618e-02, -4.1082e-01, -3.4191e-01,\n",
       "       -1.9499e-01,  1.7814e-01,  5.3463e-03, -4.7565e-01,  2.8022e-01,\n",
       "       -2.1920e-01,  6.0433e-01,  2.9309e-01, -2.4232e-01,  5.2700e-01,\n",
       "        3.9024e-01, -5.6955e-01,  3.7620e-01, -2.3126e-01, -2.9921e-01,\n",
       "        4.5643e-02,  1.4555e-01,  1.4231e-01,  1.0587e-01,  4.1210e-01,\n",
       "       -2.5261e-01, -3.2090e-02, -5.2830e-01, -2.6925e-02,  2.6227e-01,\n",
       "        1.6375e-01,  9.9259e-02,  3.1664e-01, -1.1040e-01,  2.5732e-01,\n",
       "       -4.0720e-01, -6.9903e-02, -1.3189e-01, -5.5753e-01, -1.4815e-01,\n",
       "       -3.3673e-01, -3.6122e-01,  2.1905e-02,  6.8589e-01, -8.0151e-02,\n",
       "       -1.2327e-01, -5.0595e-02, -1.3694e-01,  2.7306e-01, -1.4885e-01,\n",
       "        4.5150e-03,  1.6709e-01,  8.8148e-02, -1.7480e-01, -1.2441e-01,\n",
       "        5.6394e-02,  1.4228e-01,  3.6865e-01,  5.9486e-02, -1.9471e-01,\n",
       "       -2.5575e-01,  2.2853e-01, -8.2876e-03,  2.0285e-02,  4.2212e-01,\n",
       "        1.3516e-01,  7.2635e-01,  3.8426e-01,  1.9571e-01, -1.8199e-01,\n",
       "        3.6326e-01, -5.9009e-01,  1.2660e-01, -2.7157e-01, -4.0160e-01,\n",
       "       -6.2389e-01,  7.8656e-01,  2.8767e-01,  5.0652e-01,  9.7881e-02,\n",
       "       -1.4708e-02,  2.3946e-01, -1.8723e-01,  4.1445e-01,  1.6650e-01,\n",
       "       -1.8899e+00,  3.5874e-01, -2.9300e-02, -7.1390e-02,  7.2308e-02,\n",
       "        6.5537e-02, -1.5800e-01,  8.0230e-02, -3.0899e-02,  1.9015e-01,\n",
       "       -1.4525e-02,  9.2995e-03, -4.5801e-01, -5.1586e-02, -4.5419e-02,\n",
       "        3.9683e-01, -2.5542e-01,  2.4292e-01, -3.0690e-01, -2.4360e-01,\n",
       "       -2.7307e-01,  1.4416e-01, -9.6950e-03, -5.7948e-01, -2.2177e-01,\n",
       "        9.3387e-02, -3.0545e-01, -7.1946e-02,  2.3493e-01,  7.2558e-01,\n",
       "        5.4868e-02, -2.7755e-01,  1.6177e-01, -3.9068e-01, -2.3836e-02,\n",
       "       -3.8402e-01,  2.9663e-02, -7.9789e-01, -2.6405e-01,  5.8656e-02,\n",
       "        1.4091e-01,  3.0928e-01,  1.4004e-01,  1.3282e-02,  2.1340e-01,\n",
       "       -3.4682e-01,  3.5323e-01,  2.9809e-01,  9.6521e-02, -2.2186e-02,\n",
       "       -1.5502e-01, -7.5963e-02,  1.0163e+00, -2.0319e-01, -4.8089e-01,\n",
       "        1.8526e-03,  3.0310e-01, -3.0456e-01, -2.9545e-01, -1.1845e-02,\n",
       "       -1.5618e-01,  2.7693e-01,  3.1751e-01,  3.6650e-01, -3.9038e-01,\n",
       "        4.2004e-01, -3.2852e-01, -6.7994e-02, -1.4249e-01, -1.3815e-01,\n",
       "       -1.0507e-01, -1.7883e-01, -3.8480e-01,  3.2119e-01, -1.8403e-01,\n",
       "       -5.3652e-02, -2.0844e-02, -7.6724e-01, -1.1748e-01, -7.7480e-02,\n",
       "        4.5177e-01,  9.6727e-02, -2.0082e-01, -1.9445e-01, -9.7588e-03,\n",
       "        3.0302e-01, -3.3607e-01,  2.3825e-01, -3.6793e-02, -1.5106e-01,\n",
       "       -8.4877e-02, -1.7448e-01, -1.5700e-01, -6.5094e-01,  1.4706e-02,\n",
       "        4.4220e-01,  8.0152e-03, -3.4658e-01,  2.3566e-01,  1.5767e-01,\n",
       "       -1.6591e-01, -2.4740e-01, -3.3408e-01, -1.9722e-01,  2.2875e-02,\n",
       "       -1.4465e-01, -2.1910e-01, -9.2784e-02, -4.1141e-01,  2.7569e-01,\n",
       "       -5.2462e-02, -1.1711e-01,  2.3524e-01,  1.3615e-01,  2.0582e-01,\n",
       "        3.3483e-04, -3.5967e-02, -4.2995e-01, -3.1407e-01,  2.7588e-01,\n",
       "       -2.0524e-01, -1.7360e-01, -8.1571e-02,  3.2323e-01,  2.3840e-01,\n",
       "        1.2790e-01, -4.0717e-01,  5.8714e-01,  3.2730e-01,  1.7860e-02,\n",
       "        1.1729e-01, -4.7061e-02, -7.8453e-02,  1.4081e-01, -1.5994e-01,\n",
       "       -1.4909e-01,  7.1805e-02, -3.7698e-02,  4.4769e-01,  1.6152e-01,\n",
       "       -8.2816e-02, -1.1207e-01, -3.8554e-02, -1.0233e-01,  6.8006e-02,\n",
       "        1.6570e-01, -1.8337e-01,  3.8589e-01,  5.7057e-03, -1.4620e-01,\n",
       "        1.2894e+00,  3.4140e-01,  1.6715e-01,  4.2835e-01, -1.0456e-01,\n",
       "       -3.0015e-01, -2.4827e-02,  2.5433e-01,  1.8072e-01,  2.6348e-01,\n",
       "       -6.7580e-02,  1.7232e-01, -7.1153e-02,  1.7512e-01, -2.7813e-02,\n",
       "        6.4046e-01, -2.7157e-01, -9.4352e-02, -2.2393e-01,  8.9257e-03,\n",
       "       -3.7729e-01, -4.0433e-02,  1.1951e-01, -2.2956e-01,  3.5904e-01,\n",
       "        4.1923e-02,  5.3552e-02, -1.4838e-01,  5.5642e-01, -1.1883e-01,\n",
       "        1.1237e-01,  3.3574e-04, -1.5964e-01,  1.9147e-01,  1.1882e-01,\n",
       "       -2.8518e-01, -7.7427e-02,  2.2063e-01, -2.9288e-01, -5.9751e-01,\n",
       "       -1.6613e-02, -2.1909e-02, -4.2636e-01,  4.8578e-01, -2.8969e-01],\n",
       "      dtype=float32)"
      ]
     },
     "execution_count": 40,
     "metadata": {},
     "output_type": "execute_result"
    }
   ],
   "source": [
    "sentence1[0].vector"
   ]
  },
  {
   "cell_type": "code",
   "execution_count": 53,
   "metadata": {},
   "outputs": [
    {
     "name": "stdout",
     "output_type": "stream",
     "text": [
      "['pooch', 'CHINCHILLA', 'CORGI', 'adopt', 'cattery', 'ADOPTED', 'CHINCHILLAS', 'goldendoodles', 'cockapoos', 'sighthound']\n"
     ]
    }
   ],
   "source": [
    "import numpy as np\n",
    "import spacy\n",
    "\n",
    "## let's find the words most closely related to the word dog.\n",
    " \n",
    "nlp = spacy.load(\"en_core_web_md\")\n",
    "    \n",
    "your_word = \"dog\"\n",
    "    \n",
    "ms = nlp.vocab.vectors.most_similar(\n",
    "    np.asarray([nlp.vocab.vectors[nlp.vocab.strings[your_word]]]), \n",
    "    n=10,\n",
    ")\n",
    "words = [nlp.vocab.strings[w] for w in ms[0][0]]\n",
    "distances = ms[2]\n",
    "print(words)"
   ]
  },
  {
   "cell_type": "markdown",
   "metadata": {},
   "source": [
    "## 3.2. Doc Similarity"
   ]
  },
  {
   "cell_type": "markdown",
   "metadata": {},
   "source": [
    " Through word vectors we can calculate the similarity between two documents."
   ]
  },
  {
   "cell_type": "code",
   "execution_count": 55,
   "metadata": {},
   "outputs": [
    {
     "name": "stdout",
     "output_type": "stream",
     "text": [
      "I like salty fries and hamburgers. <-> Fast food tastes very good. 0.8015960454940796\n"
     ]
    }
   ],
   "source": [
    "nlp = spacy.load(\"en_core_web_md\")  # make sure to use larger package!\n",
    "doc1 = nlp(\"I like salty fries and hamburgers.\")\n",
    "doc2 = nlp(\"Fast food tastes very good.\")\n",
    "\n",
    "# Similarity of two documents\n",
    "print(doc1, \"<->\", doc2, doc1.similarity(doc2))"
   ]
  },
  {
   "cell_type": "markdown",
   "metadata": {},
   "source": [
    "## 3.3. Word Similarity"
   ]
  },
  {
   "cell_type": "code",
   "execution_count": 56,
   "metadata": {},
   "outputs": [
    {
     "name": "stdout",
     "output_type": "stream",
     "text": [
      "salty fries <-> hamburgers 0.5733411312103271\n"
     ]
    }
   ],
   "source": [
    "# Similarity of tokens and spans\n",
    "french_fries = doc1[2:4]\n",
    "burgers = doc1[5]\n",
    "print(french_fries, \"<->\", burgers, french_fries.similarity(burgers))"
   ]
  }
 ],
 "metadata": {
  "kernelspec": {
   "display_name": "nlp-env",
   "language": "python",
   "name": "python3"
  },
  "language_info": {
   "codemirror_mode": {
    "name": "ipython",
    "version": 3
   },
   "file_extension": ".py",
   "mimetype": "text/x-python",
   "name": "python",
   "nbconvert_exporter": "python",
   "pygments_lexer": "ipython3",
   "version": "3.11.8"
  }
 },
 "nbformat": 4,
 "nbformat_minor": 2
}
